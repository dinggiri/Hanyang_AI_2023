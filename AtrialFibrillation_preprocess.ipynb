{
 "cells": [
  {
   "cell_type": "code",
   "execution_count": 6,
   "metadata": {
    "ExecuteTime": {
     "end_time": "2023-06-09T08:17:31.355087Z",
     "start_time": "2023-06-09T08:17:31.340128Z"
    }
   },
   "outputs": [
    {
     "data": {
      "text/plain": [
       "'2.0.2'"
      ]
     },
     "execution_count": 6,
     "metadata": {},
     "output_type": "execute_result"
    }
   ],
   "source": [
    "import pandas as pd\n",
    "import numpy as np"
   ]
  },
  {
   "cell_type": "code",
   "execution_count": 7,
   "metadata": {
    "ExecuteTime": {
     "end_time": "2023-06-09T08:17:32.837937Z",
     "start_time": "2023-06-09T08:17:32.562675Z"
    }
   },
   "outputs": [],
   "source": [
    "import os\n",
    "\n",
    "\n",
    "path_to_directory=\"./data/AtrialFibrillation/\"\n",
    "files = [arff for arff in os.listdir(path_to_directory) if arff.endswith(\".arff\")]\n",
    "\n",
    "def toCsv(content): \n",
    "    data = False\n",
    "    header = \"\"\n",
    "    newContent = []\n",
    "    for line in content:\n",
    "        if not data:\n",
    "            if \"@attribute\" in line:\n",
    "                attri = line.split()\n",
    "                columnName = attri[attri.index(\"@attribute\")+1]\n",
    "                header = header + columnName + \",\"\n",
    "            elif \"@data\" in line:\n",
    "                data = True\n",
    "                header = header[:-1]\n",
    "                header += '\\n'\n",
    "                newContent.append(header)\n",
    "        else:\n",
    "            newContent.append(line)\n",
    "    return newContent\n",
    "\n",
    "# Main loop for reading and writing files\n",
    "for zzzz,file in enumerate(files):\n",
    "    with open(path_to_directory+file , \"r\") as inFile:\n",
    "        content = inFile.readlines()\n",
    "        name,ext = os.path.splitext(inFile.name)\n",
    "        new = toCsv(content)\n",
    "        with open(name+\".csv\", \"w\") as outFile:\n",
    "            outFile.writelines(new)"
   ]
  },
  {
   "cell_type": "code",
   "execution_count": 3,
   "metadata": {
    "ExecuteTime": {
     "end_time": "2023-06-06T12:20:44.678693Z",
     "start_time": "2023-06-06T12:20:44.439335Z"
    }
   },
   "outputs": [
    {
     "name": "stdout",
     "output_type": "stream",
     "text": [
      "AtrialFibrillationDimension1_TRAIN.csv\n",
      "AtrialFibrillationDimension2_TRAIN.csv\n"
     ]
    }
   ],
   "source": [
    "#TRAIN\n",
    "import pandas as pd\n",
    "\n",
    "filenames = [i for i in os.listdir(path_to_directory) if (i.endswith(\".csv\") and (\"TRAIN\" in i))][:-1]\n",
    "dictionary = {num: [] for num in range(15)}\n",
    "dict_2 = {num: [] for num in range(15)}\n",
    "for filename in filenames: # 각 파일 - dimension\n",
    "    print(filename)\n",
    "    dim = pd.read_csv(path_to_directory + filename).T\n",
    "    for idx, t in enumerate(dim):\n",
    "#         print(t)\n",
    "        time = dim[t] # time : 1 x 100, 한 dim(sensor 1개)에서의 그거\n",
    "#         if len(time) != 101:\n",
    "#             time = time[:101]\n",
    "        label = time[-1]\n",
    "        dictionary[idx].append(time[:-1])\n",
    "        dict_2[idx].append(label)"
   ]
  },
  {
   "cell_type": "code",
   "execution_count": 4,
   "metadata": {
    "ExecuteTime": {
     "end_time": "2023-06-06T12:21:12.705535Z",
     "start_time": "2023-06-06T12:21:12.631735Z"
    }
   },
   "outputs": [],
   "source": [
    "import pickle\n",
    "with open('AtrialFibrilation_feature.pickle','wb') as fw:\n",
    "    pickle.dump(dictionary, fw)\n",
    "with open('AtrialFibrilation_target.pickle','wb') as ff:\n",
    "    pickle.dump(dict_2, ff)"
   ]
  },
  {
   "cell_type": "code",
   "execution_count": 5,
   "metadata": {
    "ExecuteTime": {
     "end_time": "2023-06-06T12:21:18.833456Z",
     "start_time": "2023-06-06T12:21:18.618879Z"
    }
   },
   "outputs": [
    {
     "name": "stdout",
     "output_type": "stream",
     "text": [
      "AtrialFibrillationDimension1_TEST.csv\n",
      "AtrialFibrillationDimension2_TEST.csv\n"
     ]
    }
   ],
   "source": [
    "# TEST\n",
    "import pandas as pd\n",
    "\n",
    "filenames = [i for i in os.listdir(path_to_directory) if (i.endswith(\".csv\") and (\"TEST\" in i))][:-1]\n",
    "dictionary = {num: [] for num in range(15)}\n",
    "dict_2 = {num: [] for num in range(15)}\n",
    "for filename in filenames: # 각 파일 - dimension\n",
    "    print(filename)\n",
    "    dim = pd.read_csv(path_to_directory + filename).T\n",
    "    for idx, t in enumerate(dim):\n",
    "#         print(t)\n",
    "        time = dim[t]\n",
    "#         time = tmp[t] # time : 1 x 100, 한 dim(sensor 1개)에서의 그거\n",
    "#         if len(time) != 101:\n",
    "#             time = time[:101]\n",
    "        label = time[-1]\n",
    "        dictionary[idx].append(time[:-1])\n",
    "        dict_2[idx].append(label)"
   ]
  },
  {
   "cell_type": "code",
   "execution_count": 6,
   "metadata": {
    "ExecuteTime": {
     "end_time": "2023-06-06T12:21:28.423637Z",
     "start_time": "2023-06-06T12:21:28.358809Z"
    }
   },
   "outputs": [],
   "source": [
    "import pickle\n",
    "with open('AtrialFibrilation_feature_test.pickle','wb') as fw:\n",
    "    pickle.dump(dictionary, fw)\n",
    "with open('AtrialFibrilation_target_test.pickle','wb') as ff:\n",
    "    pickle.dump(dict_2, ff)"
   ]
  },
  {
   "cell_type": "code",
   "execution_count": 7,
   "metadata": {
    "ExecuteTime": {
     "end_time": "2023-06-06T12:21:30.138034Z",
     "start_time": "2023-06-06T12:21:30.013369Z"
    }
   },
   "outputs": [
    {
     "data": {
      "text/plain": [
       "{0: ['n', 'n'],\n",
       " 1: ['n', 'n'],\n",
       " 2: ['n', 'n'],\n",
       " 3: ['n', 'n'],\n",
       " 4: ['n', 'n'],\n",
       " 5: ['s', 's'],\n",
       " 6: ['s', 's'],\n",
       " 7: ['s', 's'],\n",
       " 8: ['s', 's'],\n",
       " 9: ['s', 's'],\n",
       " 10: ['t', 't'],\n",
       " 11: ['t', 't'],\n",
       " 12: ['t', 't'],\n",
       " 13: ['t', 't'],\n",
       " 14: ['t', 't']}"
      ]
     },
     "execution_count": 7,
     "metadata": {},
     "output_type": "execute_result"
    }
   ],
   "source": [
    "dict_2"
   ]
  }
 ],
 "metadata": {
  "hide_input": false,
  "kernelspec": {
   "display_name": "Python 3",
   "language": "python",
   "name": "python3"
  },
  "language_info": {
   "codemirror_mode": {
    "name": "ipython",
    "version": 3
   },
   "file_extension": ".py",
   "mimetype": "text/x-python",
   "name": "python",
   "nbconvert_exporter": "python",
   "pygments_lexer": "ipython3",
   "version": "3.8.5"
  },
  "toc": {
   "base_numbering": 1,
   "nav_menu": {},
   "number_sections": true,
   "sideBar": true,
   "skip_h1_title": false,
   "title_cell": "Table of Contents",
   "title_sidebar": "Contents",
   "toc_cell": false,
   "toc_position": {},
   "toc_section_display": true,
   "toc_window_display": false
  },
  "varInspector": {
   "cols": {
    "lenName": 16,
    "lenType": 16,
    "lenVar": 40
   },
   "kernels_config": {
    "python": {
     "delete_cmd_postfix": "",
     "delete_cmd_prefix": "del ",
     "library": "var_list.py",
     "varRefreshCmd": "print(var_dic_list())"
    },
    "r": {
     "delete_cmd_postfix": ") ",
     "delete_cmd_prefix": "rm(",
     "library": "var_list.r",
     "varRefreshCmd": "cat(var_dic_list()) "
    }
   },
   "types_to_exclude": [
    "module",
    "function",
    "builtin_function_or_method",
    "instance",
    "_Feature"
   ],
   "window_display": false
  }
 },
 "nbformat": 4,
 "nbformat_minor": 4
}
