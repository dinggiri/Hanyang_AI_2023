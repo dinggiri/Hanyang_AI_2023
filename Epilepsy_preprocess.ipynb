{
 "cells": [
  {
   "cell_type": "code",
   "execution_count": 1,
   "metadata": {
    "ExecuteTime": {
     "end_time": "2023-06-06T10:15:40.114812Z",
     "start_time": "2023-06-06T10:15:38.094659Z"
    }
   },
   "outputs": [
    {
     "name": "stderr",
     "output_type": "stream",
     "text": [
      "C:\\Users\\yuins\\anaconda3\\lib\\site-packages\\numpy\\_distributor_init.py:30: UserWarning: loaded more than 1 DLL from .libs:\n",
      "C:\\Users\\yuins\\anaconda3\\lib\\site-packages\\numpy\\.libs\\libopenblas.GK7GX5KEQ4F6UYO3P26ULGBQYHGQO7J4.gfortran-win_amd64.dll\n",
      "C:\\Users\\yuins\\anaconda3\\lib\\site-packages\\numpy\\.libs\\libopenblas64__v0.3.21-gcc_10_3_0.dll\n",
      "  warnings.warn(\"loaded more than 1 DLL from .libs:\"\n",
      "C:\\Users\\yuins\\anaconda3\\lib\\site-packages\\pandas\\core\\computation\\expressions.py:20: UserWarning: Pandas requires version '2.7.3' or newer of 'numexpr' (version '2.7.1' currently installed).\n",
      "  from pandas.core.computation.check import NUMEXPR_INSTALLED\n"
     ]
    }
   ],
   "source": [
    "import pandas as pd\n",
    "import numpy as np"
   ]
  },
  {
   "cell_type": "code",
   "execution_count": 2,
   "metadata": {
    "ExecuteTime": {
     "end_time": "2023-06-06T10:15:46.253788Z",
     "start_time": "2023-06-06T10:15:46.057913Z"
    }
   },
   "outputs": [],
   "source": [
    "import os\n",
    "\n",
    "\n",
    "path_to_directory=\"./epilepsy_data/\"\n",
    "files = [arff for arff in os.listdir(path_to_directory) if arff.endswith(\".arff\")]\n",
    "\n",
    "def toCsv(content): \n",
    "    data = False\n",
    "    header = \"\"\n",
    "    newContent = []\n",
    "    for line in content:\n",
    "        if not data:\n",
    "            if \"@attribute\" in line:\n",
    "                attri = line.split()\n",
    "                columnName = attri[attri.index(\"@attribute\")+1]\n",
    "                header = header + columnName + \",\"\n",
    "            elif \"@data\" in line:\n",
    "                data = True\n",
    "                header = header[:-1]\n",
    "                header += '\\n'\n",
    "                newContent.append(header)\n",
    "        else:\n",
    "            newContent.append(line)\n",
    "    return newContent\n",
    "\n",
    "# Main loop for reading and writing files\n",
    "for zzzz,file in enumerate(files):\n",
    "    with open(path_to_directory+file , \"r\") as inFile:\n",
    "        content = inFile.readlines()\n",
    "        name,ext = os.path.splitext(inFile.name)\n",
    "        new = toCsv(content)\n",
    "        with open(name+\".csv\", \"w\") as outFile:\n",
    "            outFile.writelines(new)"
   ]
  },
  {
   "cell_type": "code",
   "execution_count": 8,
   "metadata": {
    "ExecuteTime": {
     "end_time": "2023-06-06T10:22:32.489385Z",
     "start_time": "2023-06-06T10:22:32.134253Z"
    }
   },
   "outputs": [
    {
     "name": "stdout",
     "output_type": "stream",
     "text": [
      "EpilepsyDimension1_TRAIN.csv\n",
      "EpilepsyDimension2_TRAIN.csv\n",
      "EpilepsyDimension3_TRAIN.csv\n"
     ]
    }
   ],
   "source": [
    "#TRAIN\n",
    "import pandas as pd\n",
    "\n",
    "filenames = [i for i in os.listdir(path_to_directory) if (i.endswith(\".csv\") and (\"TRAIN\" in i))][:-1]\n",
    "dictionary = {num: [] for num in range(137)}\n",
    "dict_2 = {num: [] for num in range(137)}\n",
    "for filename in filenames: # 각 파일 - dimension\n",
    "    print(filename)\n",
    "    dim = pd.read_csv(path_to_directory + filename).T\n",
    "    for idx, t in enumerate(dim):\n",
    "#         print(t)\n",
    "        time = dim[t] # time : 1 x 100, 한 dim(sensor 1개)에서의 그거\n",
    "#         if len(time) != 101:\n",
    "#             time = time[:101]\n",
    "        label = time[-1]\n",
    "        dictionary[idx].append(time[:-1])\n",
    "        dict_2[idx].append(label)"
   ]
  },
  {
   "cell_type": "code",
   "execution_count": 17,
   "metadata": {
    "ExecuteTime": {
     "end_time": "2023-06-06T10:33:14.077909Z",
     "start_time": "2023-06-06T10:33:13.924322Z"
    }
   },
   "outputs": [],
   "source": [
    "import pickle\n",
    "with open('Epilepsy_feature.pickle','wb') as fw:\n",
    "    pickle.dump(dictionary, fw)\n",
    "with open('Epilepsy_target.pickle','wb') as ff:\n",
    "    pickle.dump(dict_2, ff)"
   ]
  },
  {
   "cell_type": "code",
   "execution_count": 19,
   "metadata": {
    "ExecuteTime": {
     "end_time": "2023-06-06T10:33:39.934700Z",
     "start_time": "2023-06-06T10:33:39.466576Z"
    }
   },
   "outputs": [
    {
     "name": "stdout",
     "output_type": "stream",
     "text": [
      "EpilepsyDimension1_TEST.csv\n",
      "EpilepsyDimension2_TEST.csv\n",
      "EpilepsyDimension3_TEST.csv\n"
     ]
    }
   ],
   "source": [
    "# TEST\n",
    "import pandas as pd\n",
    "\n",
    "filenames = [i for i in os.listdir(path_to_directory) if (i.endswith(\".csv\") and (\"TEST\" in i))][:-1]\n",
    "dictionary = {num: [] for num in range(138)}\n",
    "dict_2 = {num: [] for num in range(138)}\n",
    "for filename in filenames: # 각 파일 - dimension\n",
    "    print(filename)\n",
    "    dim = pd.read_csv(path_to_directory + filename).T\n",
    "    for idx, t in enumerate(dim):\n",
    "#         print(t)\n",
    "        time = dim[t]\n",
    "#         time = tmp[t] # time : 1 x 100, 한 dim(sensor 1개)에서의 그거\n",
    "#         if len(time) != 101:\n",
    "#             time = time[:101]\n",
    "        label = time[-1]\n",
    "        dictionary[idx].append(time[:-1])\n",
    "        dict_2[idx].append(label)"
   ]
  },
  {
   "cell_type": "code",
   "execution_count": 21,
   "metadata": {
    "ExecuteTime": {
     "end_time": "2023-06-06T10:33:57.891871Z",
     "start_time": "2023-06-06T10:33:57.699358Z"
    }
   },
   "outputs": [],
   "source": [
    "import pickle\n",
    "with open('Epilepsy_feature_test.pickle','wb') as fw:\n",
    "    pickle.dump(dictionary, fw)\n",
    "with open('Epilepsy_target_test.pickle','wb') as ff:\n",
    "    pickle.dump(dict_2, ff)"
   ]
  },
  {
   "cell_type": "code",
   "execution_count": 23,
   "metadata": {
    "ExecuteTime": {
     "end_time": "2023-06-06T10:38:10.602314Z",
     "start_time": "2023-06-06T10:38:10.527520Z"
    }
   },
   "outputs": [
    {
     "data": {
      "text/plain": [
       "{0: ['EPILEPSY', 'EPILEPSY', 'EPILEPSY'],\n",
       " 1: ['EPILEPSY', 'EPILEPSY', 'EPILEPSY'],\n",
       " 2: ['EPILEPSY', 'EPILEPSY', 'EPILEPSY'],\n",
       " 3: ['EPILEPSY', 'EPILEPSY', 'EPILEPSY'],\n",
       " 4: ['EPILEPSY', 'EPILEPSY', 'EPILEPSY'],\n",
       " 5: ['EPILEPSY', 'EPILEPSY', 'EPILEPSY'],\n",
       " 6: ['EPILEPSY', 'EPILEPSY', 'EPILEPSY'],\n",
       " 7: ['EPILEPSY', 'EPILEPSY', 'EPILEPSY'],\n",
       " 8: ['EPILEPSY', 'EPILEPSY', 'EPILEPSY'],\n",
       " 9: ['EPILEPSY', 'EPILEPSY', 'EPILEPSY'],\n",
       " 10: ['EPILEPSY', 'EPILEPSY', 'EPILEPSY'],\n",
       " 11: ['EPILEPSY', 'EPILEPSY', 'EPILEPSY'],\n",
       " 12: ['EPILEPSY', 'EPILEPSY', 'EPILEPSY'],\n",
       " 13: ['EPILEPSY', 'EPILEPSY', 'EPILEPSY'],\n",
       " 14: ['EPILEPSY', 'EPILEPSY', 'EPILEPSY'],\n",
       " 15: ['EPILEPSY', 'EPILEPSY', 'EPILEPSY'],\n",
       " 16: ['EPILEPSY', 'EPILEPSY', 'EPILEPSY'],\n",
       " 17: ['EPILEPSY', 'EPILEPSY', 'EPILEPSY'],\n",
       " 18: ['EPILEPSY', 'EPILEPSY', 'EPILEPSY'],\n",
       " 19: ['EPILEPSY', 'EPILEPSY', 'EPILEPSY'],\n",
       " 20: ['EPILEPSY', 'EPILEPSY', 'EPILEPSY'],\n",
       " 21: ['EPILEPSY', 'EPILEPSY', 'EPILEPSY'],\n",
       " 22: ['EPILEPSY', 'EPILEPSY', 'EPILEPSY'],\n",
       " 23: ['EPILEPSY', 'EPILEPSY', 'EPILEPSY'],\n",
       " 24: ['EPILEPSY', 'EPILEPSY', 'EPILEPSY'],\n",
       " 25: ['EPILEPSY', 'EPILEPSY', 'EPILEPSY'],\n",
       " 26: ['EPILEPSY', 'EPILEPSY', 'EPILEPSY'],\n",
       " 27: ['EPILEPSY', 'EPILEPSY', 'EPILEPSY'],\n",
       " 28: ['EPILEPSY', 'EPILEPSY', 'EPILEPSY'],\n",
       " 29: ['EPILEPSY', 'EPILEPSY', 'EPILEPSY'],\n",
       " 30: ['EPILEPSY', 'EPILEPSY', 'EPILEPSY'],\n",
       " 31: ['EPILEPSY', 'EPILEPSY', 'EPILEPSY'],\n",
       " 32: ['EPILEPSY', 'EPILEPSY', 'EPILEPSY'],\n",
       " 33: ['EPILEPSY', 'EPILEPSY', 'EPILEPSY'],\n",
       " 34: ['WALKING', 'WALKING', 'WALKING'],\n",
       " 35: ['WALKING', 'WALKING', 'WALKING'],\n",
       " 36: ['WALKING', 'WALKING', 'WALKING'],\n",
       " 37: ['WALKING', 'WALKING', 'WALKING'],\n",
       " 38: ['WALKING', 'WALKING', 'WALKING'],\n",
       " 39: ['WALKING', 'WALKING', 'WALKING'],\n",
       " 40: ['WALKING', 'WALKING', 'WALKING'],\n",
       " 41: ['WALKING', 'WALKING', 'WALKING'],\n",
       " 42: ['WALKING', 'WALKING', 'WALKING'],\n",
       " 43: ['WALKING', 'WALKING', 'WALKING'],\n",
       " 44: ['WALKING', 'WALKING', 'WALKING'],\n",
       " 45: ['WALKING', 'WALKING', 'WALKING'],\n",
       " 46: ['WALKING', 'WALKING', 'WALKING'],\n",
       " 47: ['WALKING', 'WALKING', 'WALKING'],\n",
       " 48: ['WALKING', 'WALKING', 'WALKING'],\n",
       " 49: ['WALKING', 'WALKING', 'WALKING'],\n",
       " 50: ['WALKING', 'WALKING', 'WALKING'],\n",
       " 51: ['WALKING', 'WALKING', 'WALKING'],\n",
       " 52: ['WALKING', 'WALKING', 'WALKING'],\n",
       " 53: ['WALKING', 'WALKING', 'WALKING'],\n",
       " 54: ['WALKING', 'WALKING', 'WALKING'],\n",
       " 55: ['WALKING', 'WALKING', 'WALKING'],\n",
       " 56: ['WALKING', 'WALKING', 'WALKING'],\n",
       " 57: ['WALKING', 'WALKING', 'WALKING'],\n",
       " 58: ['WALKING', 'WALKING', 'WALKING'],\n",
       " 59: ['WALKING', 'WALKING', 'WALKING'],\n",
       " 60: ['WALKING', 'WALKING', 'WALKING'],\n",
       " 61: ['WALKING', 'WALKING', 'WALKING'],\n",
       " 62: ['WALKING', 'WALKING', 'WALKING'],\n",
       " 63: ['WALKING', 'WALKING', 'WALKING'],\n",
       " 64: ['WALKING', 'WALKING', 'WALKING'],\n",
       " 65: ['WALKING', 'WALKING', 'WALKING'],\n",
       " 66: ['WALKING', 'WALKING', 'WALKING'],\n",
       " 67: ['WALKING', 'WALKING', 'WALKING'],\n",
       " 68: ['WALKING', 'WALKING', 'WALKING'],\n",
       " 69: ['WALKING', 'WALKING', 'WALKING'],\n",
       " 70: ['WALKING', 'WALKING', 'WALKING'],\n",
       " 71: ['RUNNING', 'RUNNING', 'RUNNING'],\n",
       " 72: ['RUNNING', 'RUNNING', 'RUNNING'],\n",
       " 73: ['RUNNING', 'RUNNING', 'RUNNING'],\n",
       " 74: ['RUNNING', 'RUNNING', 'RUNNING'],\n",
       " 75: ['RUNNING', 'RUNNING', 'RUNNING'],\n",
       " 76: ['RUNNING', 'RUNNING', 'RUNNING'],\n",
       " 77: ['RUNNING', 'RUNNING', 'RUNNING'],\n",
       " 78: ['RUNNING', 'RUNNING', 'RUNNING'],\n",
       " 79: ['RUNNING', 'RUNNING', 'RUNNING'],\n",
       " 80: ['RUNNING', 'RUNNING', 'RUNNING'],\n",
       " 81: ['RUNNING', 'RUNNING', 'RUNNING'],\n",
       " 82: ['RUNNING', 'RUNNING', 'RUNNING'],\n",
       " 83: ['RUNNING', 'RUNNING', 'RUNNING'],\n",
       " 84: ['RUNNING', 'RUNNING', 'RUNNING'],\n",
       " 85: ['RUNNING', 'RUNNING', 'RUNNING'],\n",
       " 86: ['RUNNING', 'RUNNING', 'RUNNING'],\n",
       " 87: ['RUNNING', 'RUNNING', 'RUNNING'],\n",
       " 88: ['RUNNING', 'RUNNING', 'RUNNING'],\n",
       " 89: ['RUNNING', 'RUNNING', 'RUNNING'],\n",
       " 90: ['RUNNING', 'RUNNING', 'RUNNING'],\n",
       " 91: ['RUNNING', 'RUNNING', 'RUNNING'],\n",
       " 92: ['RUNNING', 'RUNNING', 'RUNNING'],\n",
       " 93: ['RUNNING', 'RUNNING', 'RUNNING'],\n",
       " 94: ['RUNNING', 'RUNNING', 'RUNNING'],\n",
       " 95: ['RUNNING', 'RUNNING', 'RUNNING'],\n",
       " 96: ['RUNNING', 'RUNNING', 'RUNNING'],\n",
       " 97: ['RUNNING', 'RUNNING', 'RUNNING'],\n",
       " 98: ['RUNNING', 'RUNNING', 'RUNNING'],\n",
       " 99: ['RUNNING', 'RUNNING', 'RUNNING'],\n",
       " 100: ['RUNNING', 'RUNNING', 'RUNNING'],\n",
       " 101: ['RUNNING', 'RUNNING', 'RUNNING'],\n",
       " 102: ['RUNNING', 'RUNNING', 'RUNNING'],\n",
       " 103: ['RUNNING', 'RUNNING', 'RUNNING'],\n",
       " 104: ['RUNNING', 'RUNNING', 'RUNNING'],\n",
       " 105: ['RUNNING', 'RUNNING', 'RUNNING'],\n",
       " 106: ['RUNNING', 'RUNNING', 'RUNNING'],\n",
       " 107: ['RUNNING', 'RUNNING', 'RUNNING'],\n",
       " 108: ['SAWING', 'SAWING', 'SAWING'],\n",
       " 109: ['SAWING', 'SAWING', 'SAWING'],\n",
       " 110: ['SAWING', 'SAWING', 'SAWING'],\n",
       " 111: ['SAWING', 'SAWING', 'SAWING'],\n",
       " 112: ['SAWING', 'SAWING', 'SAWING'],\n",
       " 113: ['SAWING', 'SAWING', 'SAWING'],\n",
       " 114: ['SAWING', 'SAWING', 'SAWING'],\n",
       " 115: ['SAWING', 'SAWING', 'SAWING'],\n",
       " 116: ['SAWING', 'SAWING', 'SAWING'],\n",
       " 117: ['SAWING', 'SAWING', 'SAWING'],\n",
       " 118: ['SAWING', 'SAWING', 'SAWING'],\n",
       " 119: ['SAWING', 'SAWING', 'SAWING'],\n",
       " 120: ['SAWING', 'SAWING', 'SAWING'],\n",
       " 121: ['SAWING', 'SAWING', 'SAWING'],\n",
       " 122: ['SAWING', 'SAWING', 'SAWING'],\n",
       " 123: ['SAWING', 'SAWING', 'SAWING'],\n",
       " 124: ['SAWING', 'SAWING', 'SAWING'],\n",
       " 125: ['SAWING', 'SAWING', 'SAWING'],\n",
       " 126: ['SAWING', 'SAWING', 'SAWING'],\n",
       " 127: ['SAWING', 'SAWING', 'SAWING'],\n",
       " 128: ['SAWING', 'SAWING', 'SAWING'],\n",
       " 129: ['SAWING', 'SAWING', 'SAWING'],\n",
       " 130: ['SAWING', 'SAWING', 'SAWING'],\n",
       " 131: ['SAWING', 'SAWING', 'SAWING'],\n",
       " 132: ['SAWING', 'SAWING', 'SAWING'],\n",
       " 133: ['SAWING', 'SAWING', 'SAWING'],\n",
       " 134: ['SAWING', 'SAWING', 'SAWING'],\n",
       " 135: ['SAWING', 'SAWING', 'SAWING'],\n",
       " 136: ['SAWING', 'SAWING', 'SAWING'],\n",
       " 137: ['SAWING', 'SAWING', 'SAWING']}"
      ]
     },
     "execution_count": 23,
     "metadata": {},
     "output_type": "execute_result"
    }
   ],
   "source": [
    "dict_2"
   ]
  }
 ],
 "metadata": {
  "hide_input": false,
  "kernelspec": {
   "display_name": "Python 3",
   "language": "python",
   "name": "python3"
  },
  "language_info": {
   "codemirror_mode": {
    "name": "ipython",
    "version": 3
   },
   "file_extension": ".py",
   "mimetype": "text/x-python",
   "name": "python",
   "nbconvert_exporter": "python",
   "pygments_lexer": "ipython3",
   "version": "3.8.5"
  },
  "toc": {
   "base_numbering": 1,
   "nav_menu": {},
   "number_sections": true,
   "sideBar": true,
   "skip_h1_title": false,
   "title_cell": "Table of Contents",
   "title_sidebar": "Contents",
   "toc_cell": false,
   "toc_position": {},
   "toc_section_display": true,
   "toc_window_display": false
  },
  "varInspector": {
   "cols": {
    "lenName": 16,
    "lenType": 16,
    "lenVar": 40
   },
   "kernels_config": {
    "python": {
     "delete_cmd_postfix": "",
     "delete_cmd_prefix": "del ",
     "library": "var_list.py",
     "varRefreshCmd": "print(var_dic_list())"
    },
    "r": {
     "delete_cmd_postfix": ") ",
     "delete_cmd_prefix": "rm(",
     "library": "var_list.r",
     "varRefreshCmd": "cat(var_dic_list()) "
    }
   },
   "types_to_exclude": [
    "module",
    "function",
    "builtin_function_or_method",
    "instance",
    "_Feature"
   ],
   "window_display": false
  }
 },
 "nbformat": 4,
 "nbformat_minor": 4
}
