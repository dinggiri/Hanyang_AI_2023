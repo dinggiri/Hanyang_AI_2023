{
 "cells": [
  {
   "cell_type": "code",
   "execution_count": 6,
   "metadata": {
    "ExecuteTime": {
     "end_time": "2023-06-08T22:16:43.880466Z",
     "start_time": "2023-06-08T22:16:43.760787Z"
    }
   },
   "outputs": [],
   "source": [
    "import datetime\n",
    "import os\n",
    "import time\n",
    "from tqdm import tqdm\n",
    "import torch\n",
    "import h5py\n",
    "import numpy as np\n",
    "from torchinfo import summary\n",
    "import math\n",
    "from torch.autograd import Variable\n",
    "import pickle"
   ]
  },
  {
   "cell_type": "code",
   "execution_count": null,
   "metadata": {},
   "outputs": [],
   "source": [
    "# custom module\n",
    "import model, dataloader, train\n",
    "import importlib\n",
    "importlib.reload(model)\n",
    "importlib.reload(dataloader)\n",
    "importlib.reload(train)\n",
    "from model import *\n",
    "from dataloader import *\n",
    "from train import train\n",
    "from test import test"
   ]
  },
  {
   "cell_type": "markdown",
   "metadata": {},
   "source": [
    "# Parameters"
   ]
  },
  {
   "cell_type": "code",
   "execution_count": 2,
   "metadata": {
    "ExecuteTime": {
     "end_time": "2023-06-08T20:53:03.046737Z",
     "start_time": "2023-06-08T20:53:03.036763Z"
    }
   },
   "outputs": [],
   "source": [
    "config = {\n",
    "    \"root\" : \"./data/pickles/\",\n",
    "    \"train_feature\" : \"Epilepsy_feature.pickle\",\n",
    "    \"train_target\" : \"Epilepsy_target.pickle\",\n",
    "    \"test_feature\" : \"Epilepsy_feature_test.pickle\",\n",
    "    \"test_target\" : \"Epilepsy_target_test.pickle\",\n",
    "    \"labelencodedict\" : { 'EPILEPSY' : 0,\n",
    "                    'WALKING' : 1,\n",
    "                    'RUNNING' :2,\n",
    "                    'SAWING' :3},\n",
    "    \"epochs\" : 3000,\n",
    "    \"learning_rate\" : 1e-3,\n",
    "    # model \n",
    "    \"first_out_channels\" : 32,\n",
    "    \"first_kernel_size\" : 5,\n",
    "    \"second_in_channels\" : 32,\n",
    "    \"second_out_channels\" : 16,\n",
    "    \"second_kernel_size\" : 3,\n",
    "    \"dim_model\" : 64,\n",
    "    \"dim_inner\" : 128,\n",
    "    \"num_heads\" : 8,\n",
    "    \"dropout_rate\" : 0.15,\n",
    "    \"squeeze_factor\" : 2,\n",
    "    \"sec_kernel_size\" : 3,\n",
    "    \"sec_stride\" : 1,\n",
    "    \"N\" : 3,\n",
    "    \"gamma\" : 2,\n",
    "    \"u\" : 2,     \n",
    "    \"weight_decay\" : 0.1,\n",
    "}"
   ]
  },
  {
   "cell_type": "markdown",
   "metadata": {},
   "source": [
    "# Main"
   ]
  },
  {
   "cell_type": "code",
   "execution_count": 5,
   "metadata": {
    "ExecuteTime": {
     "end_time": "2023-06-08T21:03:30.586580Z",
     "start_time": "2023-06-08T21:02:45.710773Z"
    }
   },
   "outputs": [
    {
     "name": "stderr",
     "output_type": "stream",
     "text": [
      "C:\\Users\\yuins\\anaconda3\\lib\\site-packages\\pandas\\core\\computation\\expressions.py:20: UserWarning: Pandas requires version '2.7.3' or newer of 'numexpr' (version '2.7.1' currently installed).\n",
      "  from pandas.core.computation.check import NUMEXPR_INSTALLED\n",
      "C:\\Users\\yuins\\Hanyang_23_1st\\AI\\model.py:39: UserWarning: Implicit dimension choice for softmax has been deprecated. Change the call to include dim=X as an argument.\n",
      "  attention_prob = torch.nn.functional.softmax(scaled_att_score)\n",
      "C:\\Users\\yuins\\Hanyang_23_1st\\AI\\model.py:239: UserWarning: Implicit dimension choice for softmax has been deprecated. Change the call to include dim=X as an argument.\n",
      "  attention_prob = torch.nn.functional.softmax(scaled_att_score)\n"
     ]
    },
    {
     "name": "stdout",
     "output_type": "stream",
     "text": [
      "Epoch: 0, Loss: 1.2660, Train error: 0.1679\n",
      "Epoch: 1, Loss: 1.0638, Train error: 0.1277\n",
      "Epoch: 2, Loss: 0.8395, Train error: 0.0693\n",
      "Epoch: 3, Loss: 0.6231, Train error: 0.0584\n",
      "Epoch: 4, Loss: 0.4812, Train error: 0.0584\n",
      "Epoch: 5, Loss: 0.3748, Train error: 0.0438\n",
      "Epoch: 6, Loss: 0.2929, Train error: 0.0474\n",
      "Epoch: 7, Loss: 0.2137, Train error: 0.0219\n",
      "Epoch: 8, Loss: 0.1682, Train error: 0.0182\n",
      "Epoch: 9, Loss: 0.1226, Train error: 0.0109\n",
      "Epoch: 10, Loss: 0.0855, Train error: 0.0109\n",
      "Epoch: 11, Loss: 0.0698, Train error: 0.0073\n",
      "Epoch: 12, Loss: 0.0527, Train error: 0.0036\n",
      "Epoch: 13, Loss: 0.0441, Train error: 0.0000\n",
      "Epoch: 14, Loss: 0.0297, Train error: 0.0000\n",
      "Epoch: 15, Loss: 0.0240, Train error: 0.0000\n",
      "Epoch: 16, Loss: 0.0155, Train error: 0.0000\n",
      "Epoch: 17, Loss: 0.0114, Train error: 0.0000\n",
      "Epoch: 18, Loss: 0.0093, Train error: 0.0000\n",
      "Epoch: 19, Loss: 0.0051, Train error: 0.0000\n",
      "Epoch: 20, Loss: 0.0043, Train error: 0.0000\n",
      "Epoch: 21, Loss: 0.0033, Train error: 0.0000\n",
      "Epoch: 22, Loss: 0.0026, Train error: 0.0000\n",
      "Epoch: 23, Loss: 0.0022, Train error: 0.0000\n",
      "Epoch: 24, Loss: 0.0019, Train error: 0.0000\n",
      "Epoch: 25, Loss: 0.0015, Train error: 0.0000\n",
      "Epoch: 26, Loss: 0.0015, Train error: 0.0000\n",
      "Epoch: 27, Loss: 0.0011, Train error: 0.0000\n",
      "Epoch: 28, Loss: 0.0010, Train error: 0.0000\n",
      "Epoch: 29, Loss: 0.0010, Train error: 0.0000\n",
      "Epoch: 30, Loss: 0.0009, Train error: 0.0000\n",
      "Epoch: 31, Loss: 0.0006, Train error: 0.0000\n",
      "Epoch: 32, Loss: 0.0007, Train error: 0.0000\n",
      "Epoch: 33, Loss: 0.0007, Train error: 0.0000\n",
      "Epoch: 34, Loss: 0.0006, Train error: 0.0000\n",
      "Epoch: 35, Loss: 0.0005, Train error: 0.0000\n",
      "Epoch: 36, Loss: 0.0005, Train error: 0.0000\n",
      "Epoch: 37, Loss: 0.0004, Train error: 0.0000\n",
      "Epoch: 38, Loss: 0.0004, Train error: 0.0000\n",
      "Epoch: 39, Loss: 0.0004, Train error: 0.0000\n",
      "Epoch: 40, Loss: 0.0004, Train error: 0.0000\n",
      "Epoch: 41, Loss: 0.0004, Train error: 0.0000\n",
      "Epoch: 42, Loss: 0.0003, Train error: 0.0000\n",
      "Epoch: 43, Loss: 0.0003, Train error: 0.0000\n",
      "Epoch: 44, Loss: 0.0003, Train error: 0.0000\n",
      "Epoch: 45, Loss: 0.0003, Train error: 0.0000\n",
      "Epoch: 46, Loss: 0.0003, Train error: 0.0000\n",
      "Epoch: 47, Loss: 0.0002, Train error: 0.0000\n",
      "Epoch: 48, Loss: 0.0002, Train error: 0.0000\n",
      "Epoch: 49, Loss: 0.0002, Train error: 0.0000\n",
      "Epoch: 50, Loss: 0.0002, Train error: 0.0000\n",
      "Epoch: 51, Loss: 0.0002, Train error: 0.0000\n",
      "Epoch: 52, Loss: 0.0002, Train error: 0.0000\n",
      "Epoch: 53, Loss: 0.0002, Train error: 0.0000\n",
      "Epoch: 54, Loss: 0.0002, Train error: 0.0000\n",
      "Epoch: 55, Loss: 0.0002, Train error: 0.0000\n",
      "Epoch: 56, Loss: 0.0002, Train error: 0.0000\n",
      "Epoch: 57, Loss: 0.0002, Train error: 0.0000\n",
      "Epoch: 58, Loss: 0.0002, Train error: 0.0000\n",
      "Epoch: 59, Loss: 0.0002, Train error: 0.0000\n",
      "Epoch: 60, Loss: 0.0001, Train error: 0.0000\n",
      "Epoch: 61, Loss: 0.0002, Train error: 0.0000\n",
      "Epoch: 62, Loss: 0.0002, Train error: 0.0000\n",
      "Epoch: 63, Loss: 0.0001, Train error: 0.0000\n",
      "Epoch: 64, Loss: 0.0001, Train error: 0.0000\n",
      "Epoch: 65, Loss: 0.0001, Train error: 0.0000\n",
      "Epoch: 66, Loss: 0.0002, Train error: 0.0000\n",
      "Epoch: 67, Loss: 0.0001, Train error: 0.0000\n",
      "Epoch: 68, Loss: 0.0001, Train error: 0.0000\n",
      "Epoch: 69, Loss: 0.0001, Train error: 0.0000\n",
      "Epoch: 70, Loss: 0.0001, Train error: 0.0000\n",
      "Epoch: 71, Loss: 0.0001, Train error: 0.0000\n",
      "Epoch: 72, Loss: 0.0001, Train error: 0.0000\n",
      "Epoch: 73, Loss: 0.0001, Train error: 0.0000\n",
      "Epoch: 74, Loss: 0.0001, Train error: 0.0000\n",
      "Epoch: 75, Loss: 0.0001, Train error: 0.0000\n",
      "Epoch: 76, Loss: 0.0001, Train error: 0.0000\n",
      "Epoch: 77, Loss: 0.0001, Train error: 0.0000\n",
      "Epoch: 78, Loss: 0.0001, Train error: 0.0000\n",
      "Epoch: 79, Loss: 0.0001, Train error: 0.0000\n",
      "Epoch: 80, Loss: 0.0001, Train error: 0.0000\n",
      "Epoch: 81, Loss: 0.0001, Train error: 0.0000\n",
      "Epoch: 82, Loss: 0.0001, Train error: 0.0000\n",
      "Epoch: 83, Loss: 0.0001, Train error: 0.0000\n",
      "Epoch: 84, Loss: 0.0001, Train error: 0.0000\n",
      "Epoch: 85, Loss: 0.0001, Train error: 0.0000\n",
      "Epoch: 86, Loss: 0.0001, Train error: 0.0000\n",
      "Epoch: 87, Loss: 0.0001, Train error: 0.0000\n",
      "Epoch: 88, Loss: 0.0001, Train error: 0.0000\n",
      "Epoch: 89, Loss: 0.0001, Train error: 0.0000\n",
      "Epoch: 90, Loss: 0.0001, Train error: 0.0000\n",
      "Epoch: 91, Loss: 0.0001, Train error: 0.0000\n",
      "Epoch: 92, Loss: 0.0001, Train error: 0.0000\n",
      "Epoch: 93, Loss: 0.0001, Train error: 0.0000\n",
      "Epoch: 94, Loss: 0.0001, Train error: 0.0000\n",
      "Epoch: 95, Loss: 0.0001, Train error: 0.0000\n",
      "Epoch: 96, Loss: 0.0001, Train error: 0.0000\n",
      "Epoch: 97, Loss: 0.0001, Train error: 0.0000\n",
      "Epoch: 98, Loss: 0.0001, Train error: 0.0000\n",
      "Epoch: 99, Loss: 0.0001, Train error: 0.0000\n",
      "TEST, Loss: 0.5012, Test error: 0.0507\n"
     ]
    }
   ],
   "source": [
    "if __name__ == \"__main__\":\n",
    "    epochs = config[\"epochs\"]\n",
    "    learning_rate = config[\"learning_rate\"]\n",
    "    weight_decay = config[\"weight_decay\"]\n",
    "    \n",
    "    X_train, y_train, train_y, X_test, y_test, test_y = load_dataset(config)\n",
    "    config[\"num_samples\"] = X_train.shape[0]\n",
    "    config[\"first_in_channels\"] = X_train.shape[1]\n",
    "    config[\"L\"] = X_train.shape[2]\n",
    "    config[\"length\"] = X_train.shape[2]\n",
    "    \n",
    "    md = Net(\n",
    "                dim_model = config[\"dim_model\"],\n",
    "                gamma = config[\"gamma\"],\n",
    "                u = config[\"u\"],\n",
    "                ys = y_train,\n",
    "                first_in_channels = config[\"first_in_channels\"],\n",
    "                first_out_channels = config[\"first_out_channels\"],\n",
    "                first_kernel_size = config[\"first_kernel_size\"],\n",
    "                second_in_channels = config[\"second_in_channels\"],\n",
    "                second_out_channels = config[\"second_out_channels\"],\n",
    "                second_kernel_size = config[\"second_kernel_size\"],\n",
    "                N = config[\"N\"],  #slice\n",
    "                L = config[\"L\"], # slice\n",
    "                dim_inner = config[\"dim_inner\"],\n",
    "                num_samples = config[\"num_samples\"], \n",
    "                length = config[\"length\"], \n",
    "                num_heads = config[\"num_heads\"],\n",
    "                dropout_rate = config[\"dropout_rate\"],\n",
    "                squeeze_factor = config[\"squeeze_factor\"],\n",
    "                sec_kernel_size = config[\"sec_kernel_size\"],\n",
    "                sec_stride = config[\"sec_stride\"],\n",
    "                num_classes = len(config[\"labelencodedict\"].keys()))\n",
    "    optimizer = torch.optim.Adam(md.parameters(),weight_decay=weight_decay, lr=learning_rate)\n",
    "    criterion = torch.nn.CrossEntropyLoss()\n",
    "    \n",
    "    train_loss, train_acc = train(X_train, train_y, optimizer, model = md, epochs = epochs)\n",
    "    md.ys = y_test\n",
    "    test_loss, test_acc = test(X_test, test_y, optimizer, model = md, epochs = epochs)"
   ]
  },
  {
   "cell_type": "code",
   "execution_count": null,
   "metadata": {},
   "outputs": [],
   "source": []
  }
 ],
 "metadata": {
  "hide_input": false,
  "kernelspec": {
   "display_name": "Python 3",
   "language": "python",
   "name": "python3"
  },
  "language_info": {
   "codemirror_mode": {
    "name": "ipython",
    "version": 3
   },
   "file_extension": ".py",
   "mimetype": "text/x-python",
   "name": "python",
   "nbconvert_exporter": "python",
   "pygments_lexer": "ipython3",
   "version": "3.8.5"
  },
  "toc": {
   "base_numbering": 1,
   "nav_menu": {},
   "number_sections": true,
   "sideBar": true,
   "skip_h1_title": false,
   "title_cell": "Table of Contents",
   "title_sidebar": "Contents",
   "toc_cell": false,
   "toc_position": {},
   "toc_section_display": true,
   "toc_window_display": false
  },
  "varInspector": {
   "cols": {
    "lenName": 16,
    "lenType": 16,
    "lenVar": 40
   },
   "kernels_config": {
    "python": {
     "delete_cmd_postfix": "",
     "delete_cmd_prefix": "del ",
     "library": "var_list.py",
     "varRefreshCmd": "print(var_dic_list())"
    },
    "r": {
     "delete_cmd_postfix": ") ",
     "delete_cmd_prefix": "rm(",
     "library": "var_list.r",
     "varRefreshCmd": "cat(var_dic_list()) "
    }
   },
   "types_to_exclude": [
    "module",
    "function",
    "builtin_function_or_method",
    "instance",
    "_Feature"
   ],
   "window_display": false
  }
 },
 "nbformat": 4,
 "nbformat_minor": 4
}
