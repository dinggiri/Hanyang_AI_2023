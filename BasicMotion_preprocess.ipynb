{
 "cells": [
  {
   "cell_type": "code",
   "execution_count": 1,
   "metadata": {
    "ExecuteTime": {
     "end_time": "2023-06-20T07:17:14.039467Z",
     "start_time": "2023-06-20T07:17:13.738302Z"
    }
   },
   "outputs": [],
   "source": [
    "import os\n",
    "\n",
    "\n",
    "path_to_directory=\"./data/BasicMotions/\"\n",
    "files = [arff for arff in os.listdir(path_to_directory) if arff.endswith(\".arff\")]\n",
    "\n",
    "def toCsv(content): \n",
    "    data = False\n",
    "    header = \"\"\n",
    "    newContent = []\n",
    "    for line in content:\n",
    "        if not data:\n",
    "            if \"@attribute\" in line:\n",
    "                attri = line.split()\n",
    "                columnName = attri[attri.index(\"@attribute\")+1]\n",
    "                header = header + columnName + \",\"\n",
    "            elif \"@data\" in line:\n",
    "                data = True\n",
    "                header = header[:-1]\n",
    "                header += '\\n'\n",
    "                newContent.append(header)\n",
    "        else:\n",
    "            newContent.append(line)\n",
    "    return newContent\n",
    "\n",
    "# Main loop for reading and writing files\n",
    "for zzzz,file in enumerate(files):\n",
    "    with open(path_to_directory+file , \"r\") as inFile:\n",
    "        content = inFile.readlines()\n",
    "        name,ext = os.path.splitext(inFile.name)\n",
    "        new = toCsv(content)\n",
    "        with open(name+\".csv\", \"w\") as outFile:\n",
    "            outFile.writelines(new)"
   ]
  },
  {
   "cell_type": "code",
   "execution_count": 2,
   "metadata": {
    "ExecuteTime": {
     "end_time": "2023-06-20T07:17:15.557008Z",
     "start_time": "2023-06-20T07:17:14.044279Z"
    }
   },
   "outputs": [
    {
     "name": "stderr",
     "output_type": "stream",
     "text": [
      "C:\\Users\\yuins\\anaconda3\\lib\\site-packages\\pandas\\core\\computation\\expressions.py:20: UserWarning: Pandas requires version '2.7.3' or newer of 'numexpr' (version '2.7.1' currently installed).\n",
      "  from pandas.core.computation.check import NUMEXPR_INSTALLED\n"
     ]
    },
    {
     "name": "stdout",
     "output_type": "stream",
     "text": [
      "BasicMotionsDimension1_TRAIN.csv\n",
      "BasicMotionsDimension2_TRAIN.csv\n",
      "BasicMotionsDimension3_TRAIN.csv\n",
      "BasicMotionsDimension4_TRAIN.csv\n",
      "BasicMotionsDimension5_TRAIN.csv\n",
      "BasicMotionsDimension6_TRAIN.csv\n"
     ]
    }
   ],
   "source": [
    "#TRAIN\n",
    "import pandas as pd\n",
    "\n",
    "filenames = sorted([i for i in os.listdir(path_to_directory) if (i.endswith(\".csv\") and (\"TRAIN\" in i))])[:-1]\n",
    "dictionary = {num: [] for num in range(40)}\n",
    "dict_2 = {num: [] for num in range(40)}\n",
    "for filename in filenames: # 각 파일 - dimension\n",
    "    print(filename)\n",
    "    dim = pd.read_csv(path_to_directory + filename).T\n",
    "    for idx, t in enumerate(dim):\n",
    "#         print(t)\n",
    "        time = dim[t] # time : 1 x 100, 한 dim(sensor 1개)에서의 그거\n",
    "#         if len(time) != 101:\n",
    "#             time = time[:101]\n",
    "        label = time[-1]\n",
    "        dictionary[idx].append(time[:-1])\n",
    "        dict_2[idx].append(label)"
   ]
  },
  {
   "cell_type": "code",
   "execution_count": 3,
   "metadata": {
    "ExecuteTime": {
     "end_time": "2023-06-20T07:17:15.637877Z",
     "start_time": "2023-06-20T07:17:15.562000Z"
    }
   },
   "outputs": [],
   "source": [
    "import pickle\n",
    "with open('./data/pickles/Basicmotion_feature.pickle','wb') as fw:\n",
    "    pickle.dump(dictionary, fw)\n",
    "with open('./data/pickles/Basicmotion_target.pickle','wb') as ff:\n",
    "    pickle.dump(dict_2, ff)"
   ]
  },
  {
   "cell_type": "code",
   "execution_count": 4,
   "metadata": {
    "ExecuteTime": {
     "end_time": "2023-06-20T07:17:15.992065Z",
     "start_time": "2023-06-20T07:17:15.662796Z"
    }
   },
   "outputs": [
    {
     "name": "stdout",
     "output_type": "stream",
     "text": [
      "BasicMotionsDimension1_TEST.csv\n",
      "BasicMotionsDimension2_TEST.csv\n",
      "BasicMotionsDimension3_TEST.csv\n",
      "BasicMotionsDimension4_TEST.csv\n",
      "BasicMotionsDimension5_TEST.csv\n",
      "BasicMotionsDimension6_TEST.csv\n"
     ]
    }
   ],
   "source": [
    "# TEST\n",
    "import pandas as pd\n",
    "\n",
    "filenames = sorted([i for i in os.listdir(path_to_directory) if (i.endswith(\".csv\") and (\"TEST\" in i))])[:-1]\n",
    "dictionary = {num: [] for num in range(40)}\n",
    "dict_2 = {num: [] for num in range(40)}\n",
    "for filename in filenames: # 각 파일 - dimension\n",
    "    print(filename)\n",
    "    dim = pd.read_csv(path_to_directory + filename).T\n",
    "    for idx, t in enumerate(dim):\n",
    "#         print(t)\n",
    "        time = dim[t]\n",
    "#         time = tmp[t] # time : 1 x 100, 한 dim(sensor 1개)에서의 그거\n",
    "#         if len(time) != 101:\n",
    "#             time = time[:101]\n",
    "        label = time[-1]\n",
    "        dictionary[idx].append(time[:-1])\n",
    "        dict_2[idx].append(label)"
   ]
  },
  {
   "cell_type": "code",
   "execution_count": null,
   "metadata": {},
   "outputs": [],
   "source": []
  },
  {
   "cell_type": "code",
   "execution_count": 5,
   "metadata": {
    "ExecuteTime": {
     "end_time": "2023-06-20T07:17:16.071406Z",
     "start_time": "2023-06-20T07:17:15.996055Z"
    }
   },
   "outputs": [],
   "source": [
    "import pickle\n",
    "with open('./data/pickles/Basicmotion_feature_test.pickle','wb') as fw:\n",
    "    pickle.dump(dictionary, fw)\n",
    "with open('./data/pickles/Basicmotion_target_test.pickle','wb') as ff:\n",
    "    pickle.dump(dict_2, ff)"
   ]
  }
 ],
 "metadata": {
  "hide_input": false,
  "kernelspec": {
   "display_name": "Python 3",
   "language": "python",
   "name": "python3"
  },
  "language_info": {
   "codemirror_mode": {
    "name": "ipython",
    "version": 3
   },
   "file_extension": ".py",
   "mimetype": "text/x-python",
   "name": "python",
   "nbconvert_exporter": "python",
   "pygments_lexer": "ipython3",
   "version": "3.8.5"
  },
  "toc": {
   "base_numbering": 1,
   "nav_menu": {},
   "number_sections": true,
   "sideBar": true,
   "skip_h1_title": false,
   "title_cell": "Table of Contents",
   "title_sidebar": "Contents",
   "toc_cell": false,
   "toc_position": {},
   "toc_section_display": true,
   "toc_window_display": false
  },
  "varInspector": {
   "cols": {
    "lenName": 16,
    "lenType": 16,
    "lenVar": 40
   },
   "kernels_config": {
    "python": {
     "delete_cmd_postfix": "",
     "delete_cmd_prefix": "del ",
     "library": "var_list.py",
     "varRefreshCmd": "print(var_dic_list())"
    },
    "r": {
     "delete_cmd_postfix": ") ",
     "delete_cmd_prefix": "rm(",
     "library": "var_list.r",
     "varRefreshCmd": "cat(var_dic_list()) "
    }
   },
   "types_to_exclude": [
    "module",
    "function",
    "builtin_function_or_method",
    "instance",
    "_Feature"
   ],
   "window_display": false
  }
 },
 "nbformat": 4,
 "nbformat_minor": 4
}
