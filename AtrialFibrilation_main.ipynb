{
 "cells": [
  {
   "cell_type": "code",
   "execution_count": 7,
   "metadata": {
    "ExecuteTime": {
     "end_time": "2023-06-09T03:15:16.748255Z",
     "start_time": "2023-06-09T03:15:16.737286Z"
    }
   },
   "outputs": [],
   "source": [
    "import datetime\n",
    "import os\n",
    "import time\n",
    "from tqdm import tqdm\n",
    "import torch\n",
    "import h5py\n",
    "import numpy as np\n",
    "from torchinfo import summary\n",
    "import math\n",
    "from torch.autograd import Variable\n",
    "import pickle"
   ]
  },
  {
   "cell_type": "code",
   "execution_count": 8,
   "metadata": {
    "ExecuteTime": {
     "end_time": "2023-06-09T03:15:18.497147Z",
     "start_time": "2023-06-09T03:15:18.346866Z"
    }
   },
   "outputs": [],
   "source": [
    "# custom module\n",
    "import model, dataloader, train\n",
    "import importlib\n",
    "importlib.reload(model)\n",
    "importlib.reload(dataloader)\n",
    "importlib.reload(train)\n",
    "from model import *\n",
    "from dataloader import *\n",
    "from train import train\n",
    "from test import test"
   ]
  },
  {
   "cell_type": "markdown",
   "metadata": {},
   "source": [
    "# Parameters"
   ]
  },
  {
   "cell_type": "code",
   "execution_count": 9,
   "metadata": {
    "ExecuteTime": {
     "end_time": "2023-06-09T03:15:20.204088Z",
     "start_time": "2023-06-09T03:15:20.153223Z"
    }
   },
   "outputs": [],
   "source": [
    "config = {\n",
    "    \"root\" : \"./data/pickles/\",\n",
    "    \"train_feature\" : \"AtrialFibrilation_feature.pickle\",\n",
    "    \"train_target\" : \"AtrialFibrilation_target.pickle\",\n",
    "    \"test_feature\" : \"AtrialFibrilation_feature_test.pickle\",\n",
    "    \"test_target\" : \"AtrialFibrilation_target_test.pickle\",\n",
    "    \"labelencodedict\" : { 'n' : 0,\n",
    "                    's' : 1,\n",
    "                    't' :2,\n",
    "                   },\n",
    "    \"epochs\" : 3000,\n",
    "    \"learning_rate\" : 1e-4,\n",
    "    # model \n",
    "    \"first_out_channels\" : 32,\n",
    "    \"first_kernel_size\" : 5,\n",
    "    \"second_in_channels\" : 32,\n",
    "    \"second_out_channels\" : 16,\n",
    "    \"second_kernel_size\" : 3,\n",
    "    \"dim_model\" : 64,\n",
    "    \"dim_inner\" : 128,\n",
    "    \"num_heads\" : 8,\n",
    "    \"dropout_rate\" : 0.15,\n",
    "    \"squeeze_factor\" : 2,\n",
    "    \"sec_kernel_size\" : 3,\n",
    "    \"sec_stride\" : 1,\n",
    "    \"N\" : 3,\n",
    "    \"gamma\" : 2,\n",
    "    \"u\" : 2,        \n",
    "    \"weight_decay\" : 0.1,\n",
    "       \"device\" : torch.device('cuda' if torch.cuda.is_available() else 'cpu')\n",
    "}"
   ]
  },
  {
   "cell_type": "markdown",
   "metadata": {},
   "source": [
    "# Main"
   ]
  },
  {
   "cell_type": "code",
   "execution_count": 11,
   "metadata": {
    "ExecuteTime": {
     "end_time": "2023-06-09T03:15:47.759961Z",
     "start_time": "2023-06-09T03:15:28.610260Z"
    }
   },
   "outputs": [
    {
     "name": "stderr",
     "output_type": "stream",
     "text": [
      "C:\\Users\\yuins\\Hanyang_23_1st\\AI\\model.py:39: UserWarning: Implicit dimension choice for softmax has been deprecated. Change the call to include dim=X as an argument.\n",
      "  attention_prob = torch.nn.functional.softmax(scaled_att_score)\n",
      "C:\\Users\\yuins\\Hanyang_23_1st\\AI\\model.py:241: UserWarning: Implicit dimension choice for softmax has been deprecated. Change the call to include dim=X as an argument.\n",
      "  attention_prob = torch.nn.functional.softmax(scaled_att_score)\n"
     ]
    },
    {
     "name": "stdout",
     "output_type": "stream",
     "text": [
      "Epoch: 0, Loss: 0.7874, Train acc: 95.5556%\n",
      "Epoch: 1, Loss: 0.8008, Train acc: 82.2222%\n",
      "Epoch: 2, Loss: 0.6747, Train acc: 100.0000%\n",
      "Epoch: 3, Loss: 0.6599, Train acc: 100.0000%\n",
      "Epoch: 4, Loss: 0.6687, Train acc: 100.0000%\n",
      "Epoch: 5, Loss: 0.6334, Train acc: 100.0000%\n",
      "Epoch: 6, Loss: 0.6175, Train acc: 100.0000%\n",
      "Epoch: 7, Loss: 0.6097, Train acc: 95.5556%\n",
      "Epoch: 8, Loss: 0.5730, Train acc: 100.0000%\n",
      "Epoch: 9, Loss: 0.5570, Train acc: 100.0000%\n",
      "Epoch: 10, Loss: 0.5245, Train acc: 100.0000%\n",
      "Epoch: 11, Loss: 0.3480, Train acc: 100.0000%\n",
      "Epoch: 12, Loss: 0.3773, Train acc: 100.0000%\n",
      "Epoch: 13, Loss: 0.3129, Train acc: 95.5556%\n",
      "Epoch: 14, Loss: 0.3785, Train acc: 95.5556%\n",
      "Epoch: 15, Loss: 0.2830, Train acc: 100.0000%\n",
      "Epoch: 16, Loss: 0.2662, Train acc: 100.0000%\n",
      "Epoch: 17, Loss: 0.2340, Train acc: 100.0000%\n",
      "Epoch: 18, Loss: 0.2881, Train acc: 100.0000%\n",
      "Epoch: 19, Loss: 0.1963, Train acc: 100.0000%\n",
      "Epoch: 20, Loss: 0.1536, Train acc: 100.0000%\n",
      "Epoch: 21, Loss: 0.1867, Train acc: 100.0000%\n",
      "Epoch: 22, Loss: 0.1617, Train acc: 100.0000%\n",
      "Epoch: 23, Loss: 0.1186, Train acc: 100.0000%\n",
      "Epoch: 24, Loss: 0.1107, Train acc: 100.0000%\n",
      "Epoch: 25, Loss: 0.1576, Train acc: 100.0000%\n",
      "Epoch: 26, Loss: 0.0866, Train acc: 100.0000%\n",
      "Epoch: 27, Loss: 0.0846, Train acc: 100.0000%\n",
      "Epoch: 28, Loss: 0.0997, Train acc: 100.0000%\n",
      "Epoch: 29, Loss: 0.0742, Train acc: 100.0000%\n",
      "Epoch: 30, Loss: 0.0908, Train acc: 100.0000%\n",
      "Epoch: 31, Loss: 0.0661, Train acc: 100.0000%\n",
      "Epoch: 32, Loss: 0.0470, Train acc: 100.0000%\n",
      "Epoch: 33, Loss: 0.0415, Train acc: 100.0000%\n",
      "Epoch: 34, Loss: 0.0452, Train acc: 100.0000%\n",
      "Epoch: 35, Loss: 0.0415, Train acc: 100.0000%\n",
      "Epoch: 36, Loss: 0.0463, Train acc: 100.0000%\n",
      "Epoch: 37, Loss: 0.0309, Train acc: 100.0000%\n",
      "Epoch: 38, Loss: 0.0244, Train acc: 100.0000%\n",
      "Epoch: 39, Loss: 0.0456, Train acc: 100.0000%\n",
      "Epoch: 40, Loss: 0.0349, Train acc: 100.0000%\n",
      "Epoch: 41, Loss: 0.0228, Train acc: 100.0000%\n",
      "Epoch: 42, Loss: 0.0224, Train acc: 100.0000%\n",
      "Epoch: 43, Loss: 0.0230, Train acc: 100.0000%\n",
      "Epoch: 44, Loss: 0.0215, Train acc: 100.0000%\n",
      "Epoch: 45, Loss: 0.0171, Train acc: 100.0000%\n",
      "Epoch: 46, Loss: 0.0133, Train acc: 100.0000%\n",
      "Epoch: 47, Loss: 0.0203, Train acc: 100.0000%\n",
      "Epoch: 48, Loss: 0.0169, Train acc: 100.0000%\n",
      "Epoch: 49, Loss: 0.0180, Train acc: 100.0000%\n",
      "Epoch: 50, Loss: 0.0142, Train acc: 100.0000%\n",
      "Epoch: 51, Loss: 0.0110, Train acc: 100.0000%\n",
      "Epoch: 52, Loss: 0.0202, Train acc: 100.0000%\n",
      "Epoch: 53, Loss: 0.0206, Train acc: 100.0000%\n",
      "Epoch: 54, Loss: 0.0220, Train acc: 100.0000%\n",
      "Epoch: 55, Loss: 0.0151, Train acc: 100.0000%\n",
      "Epoch: 56, Loss: 0.0136, Train acc: 100.0000%\n",
      "Epoch: 57, Loss: 0.0146, Train acc: 100.0000%\n",
      "Epoch: 58, Loss: 0.0171, Train acc: 100.0000%\n",
      "Epoch: 59, Loss: 0.0244, Train acc: 100.0000%\n",
      "Epoch: 60, Loss: 0.0133, Train acc: 100.0000%\n",
      "Epoch: 61, Loss: 0.0118, Train acc: 100.0000%\n",
      "Epoch: 62, Loss: 0.0126, Train acc: 100.0000%\n",
      "Epoch: 63, Loss: 0.0088, Train acc: 100.0000%\n",
      "Epoch: 64, Loss: 0.0084, Train acc: 100.0000%\n",
      "Epoch: 65, Loss: 0.0187, Train acc: 100.0000%\n",
      "Epoch: 66, Loss: 0.0155, Train acc: 100.0000%\n",
      "Epoch: 67, Loss: 0.0087, Train acc: 100.0000%\n",
      "Epoch: 68, Loss: 0.0105, Train acc: 100.0000%\n",
      "Epoch: 69, Loss: 0.0126, Train acc: 100.0000%\n",
      "Epoch: 70, Loss: 0.0084, Train acc: 100.0000%\n",
      "Epoch: 71, Loss: 0.0170, Train acc: 100.0000%\n",
      "Epoch: 72, Loss: 0.0121, Train acc: 100.0000%\n",
      "Epoch: 73, Loss: 0.0096, Train acc: 100.0000%\n",
      "Epoch: 74, Loss: 0.0113, Train acc: 100.0000%\n",
      "Epoch: 75, Loss: 0.0105, Train acc: 100.0000%\n",
      "Epoch: 76, Loss: 0.0068, Train acc: 100.0000%\n",
      "Epoch: 77, Loss: 0.0082, Train acc: 100.0000%\n",
      "Epoch: 78, Loss: 0.0089, Train acc: 100.0000%\n",
      "Epoch: 79, Loss: 0.0122, Train acc: 100.0000%\n",
      "Epoch: 80, Loss: 0.0072, Train acc: 100.0000%\n",
      "Epoch: 81, Loss: 0.0202, Train acc: 100.0000%\n",
      "Epoch: 82, Loss: 0.0106, Train acc: 100.0000%\n",
      "Epoch: 83, Loss: 0.0095, Train acc: 100.0000%\n",
      "Epoch: 84, Loss: 0.0077, Train acc: 100.0000%\n",
      "Epoch: 85, Loss: 0.0066, Train acc: 100.0000%\n",
      "Epoch: 86, Loss: 0.0078, Train acc: 100.0000%\n",
      "Epoch: 87, Loss: 0.0116, Train acc: 100.0000%\n",
      "Epoch: 88, Loss: 0.0086, Train acc: 100.0000%\n",
      "Epoch: 89, Loss: 0.0196, Train acc: 100.0000%\n",
      "Epoch: 90, Loss: 0.0237, Train acc: 100.0000%\n",
      "Epoch: 91, Loss: 0.0067, Train acc: 100.0000%\n",
      "Epoch: 92, Loss: 0.0112, Train acc: 100.0000%\n",
      "Epoch: 93, Loss: 0.0097, Train acc: 100.0000%\n",
      "Epoch: 94, Loss: 0.0065, Train acc: 100.0000%\n",
      "Epoch: 95, Loss: 0.0083, Train acc: 100.0000%\n",
      "Epoch: 96, Loss: 0.0091, Train acc: 100.0000%\n",
      "Epoch: 97, Loss: 0.0057, Train acc: 100.0000%\n",
      "Epoch: 98, Loss: 0.0087, Train acc: 100.0000%\n",
      "Epoch: 99, Loss: 0.0123, Train acc: 100.0000%\n",
      "Epoch: 100, Loss: 0.0112, Train acc: 100.0000%\n"
     ]
    },
    {
     "ename": "KeyboardInterrupt",
     "evalue": "",
     "output_type": "error",
     "traceback": [
      "\u001b[1;31m---------------------------------------------------------------------------\u001b[0m",
      "\u001b[1;31mKeyboardInterrupt\u001b[0m                         Traceback (most recent call last)",
      "\u001b[1;32m<ipython-input-11-0a86f47019c2>\u001b[0m in \u001b[0;36m<module>\u001b[1;34m\u001b[0m\n\u001b[0;32m     36\u001b[0m     \u001b[0mcriterion\u001b[0m \u001b[1;33m=\u001b[0m \u001b[0mtorch\u001b[0m\u001b[1;33m.\u001b[0m\u001b[0mnn\u001b[0m\u001b[1;33m.\u001b[0m\u001b[0mCrossEntropyLoss\u001b[0m\u001b[1;33m(\u001b[0m\u001b[1;33m)\u001b[0m\u001b[1;33m\u001b[0m\u001b[1;33m\u001b[0m\u001b[0m\n\u001b[0;32m     37\u001b[0m \u001b[1;33m\u001b[0m\u001b[0m\n\u001b[1;32m---> 38\u001b[1;33m     \u001b[0mtrain_loss\u001b[0m\u001b[1;33m,\u001b[0m \u001b[0mtrain_acc\u001b[0m \u001b[1;33m=\u001b[0m \u001b[0mtrain\u001b[0m\u001b[1;33m(\u001b[0m\u001b[0mX_train\u001b[0m\u001b[1;33m,\u001b[0m \u001b[0mtrain_y\u001b[0m\u001b[1;33m,\u001b[0m \u001b[0moptimizer\u001b[0m\u001b[1;33m,\u001b[0m \u001b[0mmodel\u001b[0m \u001b[1;33m=\u001b[0m \u001b[0mmd\u001b[0m\u001b[1;33m,\u001b[0m \u001b[0mepochs\u001b[0m \u001b[1;33m=\u001b[0m \u001b[0mepochs\u001b[0m\u001b[1;33m)\u001b[0m\u001b[1;33m\u001b[0m\u001b[1;33m\u001b[0m\u001b[0m\n\u001b[0m\u001b[0;32m     39\u001b[0m     \u001b[0mmd\u001b[0m\u001b[1;33m.\u001b[0m\u001b[0mys\u001b[0m \u001b[1;33m=\u001b[0m \u001b[0my_test\u001b[0m\u001b[1;33m\u001b[0m\u001b[1;33m\u001b[0m\u001b[0m\n\u001b[0;32m     40\u001b[0m     \u001b[0mtest_loss\u001b[0m\u001b[1;33m,\u001b[0m \u001b[0mtest_acc\u001b[0m \u001b[1;33m=\u001b[0m \u001b[0mtest\u001b[0m\u001b[1;33m(\u001b[0m\u001b[0mX_test\u001b[0m\u001b[1;33m,\u001b[0m \u001b[0mtest_y\u001b[0m\u001b[1;33m,\u001b[0m \u001b[0mmodel\u001b[0m \u001b[1;33m=\u001b[0m \u001b[0mmd\u001b[0m\u001b[1;33m)\u001b[0m\u001b[1;33m\u001b[0m\u001b[1;33m\u001b[0m\u001b[0m\n",
      "\u001b[1;32m~\\Hanyang_23_1st\\AI\\train.py\u001b[0m in \u001b[0;36mtrain\u001b[1;34m(X_train, train_y, optimizer, model, epochs, verbose)\u001b[0m\n\u001b[0;32m     12\u001b[0m         \u001b[0mloss\u001b[0m \u001b[1;33m=\u001b[0m \u001b[0mmodel\u001b[0m\u001b[1;33m.\u001b[0m\u001b[0mcalculate_objective\u001b[0m\u001b[1;33m(\u001b[0m\u001b[0mX\u001b[0m\u001b[1;33m,\u001b[0m \u001b[0my\u001b[0m\u001b[1;33m)\u001b[0m\u001b[1;33m\u001b[0m\u001b[1;33m\u001b[0m\u001b[0m\n\u001b[0;32m     13\u001b[0m         \u001b[0mloss\u001b[0m \u001b[1;33m=\u001b[0m \u001b[0mloss\u001b[0m\u001b[1;33m.\u001b[0m\u001b[0mmean\u001b[0m\u001b[1;33m(\u001b[0m\u001b[1;33m)\u001b[0m\u001b[1;33m\u001b[0m\u001b[1;33m\u001b[0m\u001b[0m\n\u001b[1;32m---> 14\u001b[1;33m         \u001b[0macc\u001b[0m \u001b[1;33m=\u001b[0m \u001b[0mmodel\u001b[0m\u001b[1;33m.\u001b[0m\u001b[0mcalculate_classification_error\u001b[0m\u001b[1;33m(\u001b[0m\u001b[0mX\u001b[0m\u001b[1;33m,\u001b[0m \u001b[0my\u001b[0m\u001b[1;33m)\u001b[0m\u001b[1;33m\u001b[0m\u001b[1;33m\u001b[0m\u001b[0m\n\u001b[0m\u001b[0;32m     15\u001b[0m         \u001b[0mtrain_loss\u001b[0m\u001b[1;33m.\u001b[0m\u001b[0mappend\u001b[0m\u001b[1;33m(\u001b[0m\u001b[0mloss\u001b[0m\u001b[1;33m)\u001b[0m\u001b[1;33m\u001b[0m\u001b[1;33m\u001b[0m\u001b[0m\n\u001b[0;32m     16\u001b[0m         \u001b[0mtrain_acc\u001b[0m\u001b[1;33m.\u001b[0m\u001b[0mappend\u001b[0m\u001b[1;33m(\u001b[0m\u001b[0macc\u001b[0m\u001b[1;33m)\u001b[0m\u001b[1;33m\u001b[0m\u001b[1;33m\u001b[0m\u001b[0m\n",
      "\u001b[1;32m~\\Hanyang_23_1st\\AI\\model.py\u001b[0m in \u001b[0;36mcalculate_classification_error\u001b[1;34m(self, x, y)\u001b[0m\n\u001b[0;32m    612\u001b[0m \u001b[1;33m\u001b[0m\u001b[0m\n\u001b[0;32m    613\u001b[0m     \u001b[1;32mdef\u001b[0m \u001b[0mcalculate_classification_error\u001b[0m\u001b[1;33m(\u001b[0m\u001b[0mself\u001b[0m\u001b[1;33m,\u001b[0m \u001b[0mx\u001b[0m\u001b[1;33m,\u001b[0m \u001b[0my\u001b[0m\u001b[1;33m)\u001b[0m\u001b[1;33m:\u001b[0m\u001b[1;33m\u001b[0m\u001b[1;33m\u001b[0m\u001b[0m\n\u001b[1;32m--> 614\u001b[1;33m         \u001b[0my_hat\u001b[0m \u001b[1;33m=\u001b[0m \u001b[0mself\u001b[0m\u001b[1;33m.\u001b[0m\u001b[0mforward\u001b[0m\u001b[1;33m(\u001b[0m\u001b[0mx\u001b[0m\u001b[1;33m)\u001b[0m\u001b[1;33m\u001b[0m\u001b[1;33m\u001b[0m\u001b[0m\n\u001b[0m\u001b[0;32m    615\u001b[0m         \u001b[1;31m# print(y_hat)\u001b[0m\u001b[1;33m\u001b[0m\u001b[1;33m\u001b[0m\u001b[1;33m\u001b[0m\u001b[0m\n\u001b[0;32m    616\u001b[0m \u001b[1;33m\u001b[0m\u001b[0m\n",
      "\u001b[1;32m~\\Hanyang_23_1st\\AI\\model.py\u001b[0m in \u001b[0;36mforward\u001b[1;34m(self, x)\u001b[0m\n\u001b[0;32m    630\u001b[0m         \u001b[1;31m# print(self.d)\u001b[0m\u001b[1;33m\u001b[0m\u001b[1;33m\u001b[0m\u001b[1;33m\u001b[0m\u001b[0m\n\u001b[0;32m    631\u001b[0m         \u001b[0mx1\u001b[0m \u001b[1;33m=\u001b[0m \u001b[0mself\u001b[0m\u001b[1;33m.\u001b[0m\u001b[0mchannelattention\u001b[0m\u001b[1;33m(\u001b[0m\u001b[0mx\u001b[0m\u001b[1;33m)\u001b[0m\u001b[1;33m\u001b[0m\u001b[1;33m\u001b[0m\u001b[0m\n\u001b[1;32m--> 632\u001b[1;33m         \u001b[0mx2\u001b[0m \u001b[1;33m=\u001b[0m \u001b[0mself\u001b[0m\u001b[1;33m.\u001b[0m\u001b[0msliceattention\u001b[0m\u001b[1;33m(\u001b[0m\u001b[0mx\u001b[0m\u001b[1;33m)\u001b[0m\u001b[1;33m\u001b[0m\u001b[1;33m\u001b[0m\u001b[0m\n\u001b[0m\u001b[0;32m    633\u001b[0m \u001b[1;33m\u001b[0m\u001b[0m\n\u001b[0;32m    634\u001b[0m         \u001b[1;31m# print(x1.shape, x2.shape)\u001b[0m\u001b[1;33m\u001b[0m\u001b[1;33m\u001b[0m\u001b[1;33m\u001b[0m\u001b[0m\n",
      "\u001b[1;32m~\\anaconda3\\lib\\site-packages\\torch\\nn\\modules\\module.py\u001b[0m in \u001b[0;36m_call_impl\u001b[1;34m(self, *input, **kwargs)\u001b[0m\n\u001b[0;32m   1108\u001b[0m         if not (self._backward_hooks or self._forward_hooks or self._forward_pre_hooks or _global_backward_hooks\n\u001b[0;32m   1109\u001b[0m                 or _global_forward_hooks or _global_forward_pre_hooks):\n\u001b[1;32m-> 1110\u001b[1;33m             \u001b[1;32mreturn\u001b[0m \u001b[0mforward_call\u001b[0m\u001b[1;33m(\u001b[0m\u001b[1;33m*\u001b[0m\u001b[0minput\u001b[0m\u001b[1;33m,\u001b[0m \u001b[1;33m**\u001b[0m\u001b[0mkwargs\u001b[0m\u001b[1;33m)\u001b[0m\u001b[1;33m\u001b[0m\u001b[1;33m\u001b[0m\u001b[0m\n\u001b[0m\u001b[0;32m   1111\u001b[0m         \u001b[1;31m# Do not call functions when jit is used\u001b[0m\u001b[1;33m\u001b[0m\u001b[1;33m\u001b[0m\u001b[1;33m\u001b[0m\u001b[0m\n\u001b[0;32m   1112\u001b[0m         \u001b[0mfull_backward_hooks\u001b[0m\u001b[1;33m,\u001b[0m \u001b[0mnon_full_backward_hooks\u001b[0m \u001b[1;33m=\u001b[0m \u001b[1;33m[\u001b[0m\u001b[1;33m]\u001b[0m\u001b[1;33m,\u001b[0m \u001b[1;33m[\u001b[0m\u001b[1;33m]\u001b[0m\u001b[1;33m\u001b[0m\u001b[1;33m\u001b[0m\u001b[0m\n",
      "\u001b[1;32m~\\Hanyang_23_1st\\AI\\model.py\u001b[0m in \u001b[0;36mforward\u001b[1;34m(self, x)\u001b[0m\n\u001b[0;32m    480\u001b[0m         \u001b[0mpe\u001b[0m \u001b[1;33m=\u001b[0m \u001b[0mself\u001b[0m\u001b[1;33m.\u001b[0m\u001b[0m_position_embedding\u001b[0m\u001b[1;33m(\u001b[0m\u001b[0mx\u001b[0m\u001b[1;33m)\u001b[0m\u001b[1;33m\u001b[0m\u001b[1;33m\u001b[0m\u001b[0m\n\u001b[0;32m    481\u001b[0m \u001b[1;33m\u001b[0m\u001b[0m\n\u001b[1;32m--> 482\u001b[1;33m         \u001b[0mx\u001b[0m \u001b[1;33m=\u001b[0m \u001b[0mself\u001b[0m\u001b[1;33m.\u001b[0m\u001b[0mBCEncoder\u001b[0m\u001b[1;33m(\u001b[0m\u001b[0mx\u001b[0m\u001b[1;33m)\u001b[0m\u001b[1;33m\u001b[0m\u001b[1;33m\u001b[0m\u001b[0m\n\u001b[0m\u001b[0;32m    483\u001b[0m         \u001b[0mx_rep\u001b[0m \u001b[1;33m=\u001b[0m \u001b[0mx\u001b[0m\u001b[1;33m[\u001b[0m\u001b[1;33m:\u001b[0m\u001b[1;33m,\u001b[0m\u001b[1;36m0\u001b[0m\u001b[1;33m]\u001b[0m\u001b[1;33m\u001b[0m\u001b[1;33m\u001b[0m\u001b[0m\n\u001b[0;32m    484\u001b[0m         \u001b[1;31m# print(x_rep.shape)\u001b[0m\u001b[1;33m\u001b[0m\u001b[1;33m\u001b[0m\u001b[1;33m\u001b[0m\u001b[0m\n",
      "\u001b[1;32m~\\anaconda3\\lib\\site-packages\\torch\\nn\\modules\\module.py\u001b[0m in \u001b[0;36m_call_impl\u001b[1;34m(self, *input, **kwargs)\u001b[0m\n\u001b[0;32m   1108\u001b[0m         if not (self._backward_hooks or self._forward_hooks or self._forward_pre_hooks or _global_backward_hooks\n\u001b[0;32m   1109\u001b[0m                 or _global_forward_hooks or _global_forward_pre_hooks):\n\u001b[1;32m-> 1110\u001b[1;33m             \u001b[1;32mreturn\u001b[0m \u001b[0mforward_call\u001b[0m\u001b[1;33m(\u001b[0m\u001b[1;33m*\u001b[0m\u001b[0minput\u001b[0m\u001b[1;33m,\u001b[0m \u001b[1;33m**\u001b[0m\u001b[0mkwargs\u001b[0m\u001b[1;33m)\u001b[0m\u001b[1;33m\u001b[0m\u001b[1;33m\u001b[0m\u001b[0m\n\u001b[0m\u001b[0;32m   1111\u001b[0m         \u001b[1;31m# Do not call functions when jit is used\u001b[0m\u001b[1;33m\u001b[0m\u001b[1;33m\u001b[0m\u001b[1;33m\u001b[0m\u001b[0m\n\u001b[0;32m   1112\u001b[0m         \u001b[0mfull_backward_hooks\u001b[0m\u001b[1;33m,\u001b[0m \u001b[0mnon_full_backward_hooks\u001b[0m \u001b[1;33m=\u001b[0m \u001b[1;33m[\u001b[0m\u001b[1;33m]\u001b[0m\u001b[1;33m,\u001b[0m \u001b[1;33m[\u001b[0m\u001b[1;33m]\u001b[0m\u001b[1;33m\u001b[0m\u001b[1;33m\u001b[0m\u001b[0m\n",
      "\u001b[1;32m~\\Hanyang_23_1st\\AI\\model.py\u001b[0m in \u001b[0;36mforward\u001b[1;34m(self, x)\u001b[0m\n\u001b[0;32m    345\u001b[0m \u001b[1;33m\u001b[0m\u001b[0m\n\u001b[0;32m    346\u001b[0m         \u001b[0mout\u001b[0m \u001b[1;33m=\u001b[0m \u001b[0mself\u001b[0m\u001b[1;33m.\u001b[0m\u001b[0mMSA\u001b[0m\u001b[1;33m(\u001b[0m\u001b[0mx\u001b[0m\u001b[1;33m,\u001b[0m \u001b[0mx\u001b[0m\u001b[1;33m,\u001b[0m \u001b[0mx\u001b[0m\u001b[1;33m)\u001b[0m\u001b[1;33m\u001b[0m\u001b[1;33m\u001b[0m\u001b[0m\n\u001b[1;32m--> 347\u001b[1;33m         \u001b[0mout\u001b[0m \u001b[1;33m=\u001b[0m \u001b[0mself\u001b[0m\u001b[1;33m.\u001b[0m\u001b[0mlayernorm_MSA\u001b[0m\u001b[1;33m(\u001b[0m\u001b[0mout\u001b[0m\u001b[1;33m)\u001b[0m \u001b[1;33m+\u001b[0m \u001b[0mx\u001b[0m\u001b[1;33m\u001b[0m\u001b[1;33m\u001b[0m\u001b[0m\n\u001b[0m\u001b[0;32m    348\u001b[0m         \u001b[0mout2\u001b[0m \u001b[1;33m=\u001b[0m \u001b[0mself\u001b[0m\u001b[1;33m.\u001b[0m\u001b[0mFFN\u001b[0m\u001b[1;33m(\u001b[0m\u001b[0mx\u001b[0m\u001b[1;33m)\u001b[0m\u001b[1;33m\u001b[0m\u001b[1;33m\u001b[0m\u001b[0m\n\u001b[0;32m    349\u001b[0m         \u001b[0mout2\u001b[0m \u001b[1;33m=\u001b[0m \u001b[0mself\u001b[0m\u001b[1;33m.\u001b[0m\u001b[0mlayernorm_FFN\u001b[0m\u001b[1;33m(\u001b[0m\u001b[0mout2\u001b[0m\u001b[1;33m)\u001b[0m \u001b[1;33m+\u001b[0m \u001b[0mout\u001b[0m\u001b[1;33m\u001b[0m\u001b[1;33m\u001b[0m\u001b[0m\n",
      "\u001b[1;32m~\\anaconda3\\lib\\site-packages\\torch\\nn\\modules\\module.py\u001b[0m in \u001b[0;36m_call_impl\u001b[1;34m(self, *input, **kwargs)\u001b[0m\n\u001b[0;32m   1108\u001b[0m         if not (self._backward_hooks or self._forward_hooks or self._forward_pre_hooks or _global_backward_hooks\n\u001b[0;32m   1109\u001b[0m                 or _global_forward_hooks or _global_forward_pre_hooks):\n\u001b[1;32m-> 1110\u001b[1;33m             \u001b[1;32mreturn\u001b[0m \u001b[0mforward_call\u001b[0m\u001b[1;33m(\u001b[0m\u001b[1;33m*\u001b[0m\u001b[0minput\u001b[0m\u001b[1;33m,\u001b[0m \u001b[1;33m**\u001b[0m\u001b[0mkwargs\u001b[0m\u001b[1;33m)\u001b[0m\u001b[1;33m\u001b[0m\u001b[1;33m\u001b[0m\u001b[0m\n\u001b[0m\u001b[0;32m   1111\u001b[0m         \u001b[1;31m# Do not call functions when jit is used\u001b[0m\u001b[1;33m\u001b[0m\u001b[1;33m\u001b[0m\u001b[1;33m\u001b[0m\u001b[0m\n\u001b[0;32m   1112\u001b[0m         \u001b[0mfull_backward_hooks\u001b[0m\u001b[1;33m,\u001b[0m \u001b[0mnon_full_backward_hooks\u001b[0m \u001b[1;33m=\u001b[0m \u001b[1;33m[\u001b[0m\u001b[1;33m]\u001b[0m\u001b[1;33m,\u001b[0m \u001b[1;33m[\u001b[0m\u001b[1;33m]\u001b[0m\u001b[1;33m\u001b[0m\u001b[1;33m\u001b[0m\u001b[0m\n",
      "\u001b[1;32m~\\anaconda3\\lib\\site-packages\\torch\\nn\\modules\\normalization.py\u001b[0m in \u001b[0;36mforward\u001b[1;34m(self, input)\u001b[0m\n\u001b[0;32m    187\u001b[0m \u001b[1;33m\u001b[0m\u001b[0m\n\u001b[0;32m    188\u001b[0m     \u001b[1;32mdef\u001b[0m \u001b[0mforward\u001b[0m\u001b[1;33m(\u001b[0m\u001b[0mself\u001b[0m\u001b[1;33m,\u001b[0m \u001b[0minput\u001b[0m\u001b[1;33m:\u001b[0m \u001b[0mTensor\u001b[0m\u001b[1;33m)\u001b[0m \u001b[1;33m->\u001b[0m \u001b[0mTensor\u001b[0m\u001b[1;33m:\u001b[0m\u001b[1;33m\u001b[0m\u001b[1;33m\u001b[0m\u001b[0m\n\u001b[1;32m--> 189\u001b[1;33m         return F.layer_norm(\n\u001b[0m\u001b[0;32m    190\u001b[0m             input, self.normalized_shape, self.weight, self.bias, self.eps)\n\u001b[0;32m    191\u001b[0m \u001b[1;33m\u001b[0m\u001b[0m\n",
      "\u001b[1;32m~\\anaconda3\\lib\\site-packages\\torch\\nn\\functional.py\u001b[0m in \u001b[0;36mlayer_norm\u001b[1;34m(input, normalized_shape, weight, bias, eps)\u001b[0m\n\u001b[0;32m   2484\u001b[0m             \u001b[0mlayer_norm\u001b[0m\u001b[1;33m,\u001b[0m \u001b[1;33m(\u001b[0m\u001b[0minput\u001b[0m\u001b[1;33m,\u001b[0m \u001b[0mweight\u001b[0m\u001b[1;33m,\u001b[0m \u001b[0mbias\u001b[0m\u001b[1;33m)\u001b[0m\u001b[1;33m,\u001b[0m \u001b[0minput\u001b[0m\u001b[1;33m,\u001b[0m \u001b[0mnormalized_shape\u001b[0m\u001b[1;33m,\u001b[0m \u001b[0mweight\u001b[0m\u001b[1;33m=\u001b[0m\u001b[0mweight\u001b[0m\u001b[1;33m,\u001b[0m \u001b[0mbias\u001b[0m\u001b[1;33m=\u001b[0m\u001b[0mbias\u001b[0m\u001b[1;33m,\u001b[0m \u001b[0meps\u001b[0m\u001b[1;33m=\u001b[0m\u001b[0meps\u001b[0m\u001b[1;33m\u001b[0m\u001b[1;33m\u001b[0m\u001b[0m\n\u001b[0;32m   2485\u001b[0m         )\n\u001b[1;32m-> 2486\u001b[1;33m     \u001b[1;32mreturn\u001b[0m \u001b[0mtorch\u001b[0m\u001b[1;33m.\u001b[0m\u001b[0mlayer_norm\u001b[0m\u001b[1;33m(\u001b[0m\u001b[0minput\u001b[0m\u001b[1;33m,\u001b[0m \u001b[0mnormalized_shape\u001b[0m\u001b[1;33m,\u001b[0m \u001b[0mweight\u001b[0m\u001b[1;33m,\u001b[0m \u001b[0mbias\u001b[0m\u001b[1;33m,\u001b[0m \u001b[0meps\u001b[0m\u001b[1;33m,\u001b[0m \u001b[0mtorch\u001b[0m\u001b[1;33m.\u001b[0m\u001b[0mbackends\u001b[0m\u001b[1;33m.\u001b[0m\u001b[0mcudnn\u001b[0m\u001b[1;33m.\u001b[0m\u001b[0menabled\u001b[0m\u001b[1;33m)\u001b[0m\u001b[1;33m\u001b[0m\u001b[1;33m\u001b[0m\u001b[0m\n\u001b[0m\u001b[0;32m   2487\u001b[0m \u001b[1;33m\u001b[0m\u001b[0m\n\u001b[0;32m   2488\u001b[0m \u001b[1;33m\u001b[0m\u001b[0m\n",
      "\u001b[1;31mKeyboardInterrupt\u001b[0m: "
     ]
    }
   ],
   "source": [
    "if __name__ == \"__main__\":\n",
    "    epochs = config[\"epochs\"]\n",
    "    learning_rate = config[\"learning_rate\"]\n",
    "    weight_decay = config[\"weight_decay\"]\n",
    "\n",
    "    X_train, y_train, train_y, X_test, y_test, test_y = load_dataset(config)\n",
    "    \n",
    "    config[\"num_samples\"] = X_train.shape[0]\n",
    "    config[\"first_in_channels\"] = X_train.shape[1]\n",
    "    config[\"L\"] = X_train.shape[2]\n",
    "    config[\"length\"] = X_train.shape[2]\n",
    "    \n",
    "    md = Net(\n",
    "                dim_model = config[\"dim_model\"],\n",
    "                gamma = config[\"gamma\"],\n",
    "                u = config[\"u\"],\n",
    "                ys = y_train,\n",
    "                first_in_channels = config[\"first_in_channels\"],\n",
    "                first_out_channels = config[\"first_out_channels\"],\n",
    "                first_kernel_size = config[\"first_kernel_size\"],\n",
    "                second_in_channels = config[\"second_in_channels\"],\n",
    "                second_out_channels = config[\"second_out_channels\"],\n",
    "                second_kernel_size = config[\"second_kernel_size\"],\n",
    "                N = config[\"N\"],  #slice\n",
    "                L = config[\"L\"], # slice\n",
    "                dim_inner = config[\"dim_inner\"],\n",
    "                num_samples = config[\"num_samples\"], \n",
    "                length = config[\"length\"], \n",
    "                num_heads = config[\"num_heads\"],\n",
    "                dropout_rate = config[\"dropout_rate\"],\n",
    "                squeeze_factor = config[\"squeeze_factor\"],\n",
    "                sec_kernel_size = config[\"sec_kernel_size\"],\n",
    "                sec_stride = config[\"sec_stride\"],\n",
    "                num_classes = len(config[\"labelencodedict\"].keys())).to(config['device'])\n",
    "    optimizer = torch.optim.Adam(md.parameters(), weight_decay=weight_decay, lr=learning_rate)\n",
    "    criterion = torch.nn.CrossEntropyLoss()\n",
    "\n",
    "    train_loss, train_acc = train(X_train, train_y, optimizer, model = md, epochs = epochs)\n",
    "    md.ys = y_test\n",
    "    test_loss, test_acc = test(X_test, test_y, model = md)"
   ]
  },
  {
   "cell_type": "code",
   "execution_count": null,
   "metadata": {
    "ExecuteTime": {
     "end_time": "2023-06-09T02:38:07.301577Z",
     "start_time": "2023-06-09T02:38:02.189Z"
    }
   },
   "outputs": [],
   "source": [
    "md.ys = y_test\n",
    "test_loss, test_acc = test(X_test, test_y, model = md)"
   ]
  },
  {
   "cell_type": "code",
   "execution_count": null,
   "metadata": {},
   "outputs": [],
   "source": []
  }
 ],
 "metadata": {
  "hide_input": false,
  "kernelspec": {
   "display_name": "Python 3",
   "language": "python",
   "name": "python3"
  },
  "language_info": {
   "codemirror_mode": {
    "name": "ipython",
    "version": 3
   },
   "file_extension": ".py",
   "mimetype": "text/x-python",
   "name": "python",
   "nbconvert_exporter": "python",
   "pygments_lexer": "ipython3",
   "version": "3.8.5"
  },
  "toc": {
   "base_numbering": 1,
   "nav_menu": {},
   "number_sections": true,
   "sideBar": true,
   "skip_h1_title": false,
   "title_cell": "Table of Contents",
   "title_sidebar": "Contents",
   "toc_cell": false,
   "toc_position": {},
   "toc_section_display": true,
   "toc_window_display": false
  },
  "varInspector": {
   "cols": {
    "lenName": 16,
    "lenType": 16,
    "lenVar": 40
   },
   "kernels_config": {
    "python": {
     "delete_cmd_postfix": "",
     "delete_cmd_prefix": "del ",
     "library": "var_list.py",
     "varRefreshCmd": "print(var_dic_list())"
    },
    "r": {
     "delete_cmd_postfix": ") ",
     "delete_cmd_prefix": "rm(",
     "library": "var_list.r",
     "varRefreshCmd": "cat(var_dic_list()) "
    }
   },
   "types_to_exclude": [
    "module",
    "function",
    "builtin_function_or_method",
    "instance",
    "_Feature"
   ],
   "window_display": false
  }
 },
 "nbformat": 4,
 "nbformat_minor": 4
}
