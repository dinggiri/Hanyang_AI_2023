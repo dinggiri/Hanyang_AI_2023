{
 "cells": [
  {
   "cell_type": "code",
   "execution_count": 1,
   "metadata": {
    "ExecuteTime": {
     "end_time": "2023-06-09T03:39:37.261080Z",
     "start_time": "2023-06-09T03:39:33.444022Z"
    }
   },
   "outputs": [
    {
     "name": "stderr",
     "output_type": "stream",
     "text": [
      "C:\\Users\\yuins\\anaconda3\\lib\\site-packages\\numpy\\_distributor_init.py:30: UserWarning: loaded more than 1 DLL from .libs:\n",
      "C:\\Users\\yuins\\anaconda3\\lib\\site-packages\\numpy\\.libs\\libopenblas.GK7GX5KEQ4F6UYO3P26ULGBQYHGQO7J4.gfortran-win_amd64.dll\n",
      "C:\\Users\\yuins\\anaconda3\\lib\\site-packages\\numpy\\.libs\\libopenblas64__v0.3.21-gcc_10_3_0.dll\n",
      "  warnings.warn(\"loaded more than 1 DLL from .libs:\"\n"
     ]
    }
   ],
   "source": [
    "import datetime\n",
    "import os\n",
    "import time\n",
    "from tqdm import tqdm\n",
    "import torch\n",
    "import h5py\n",
    "import numpy as np\n",
    "from torchinfo import summary\n",
    "import math\n",
    "from torch.autograd import Variable\n",
    "import pickle"
   ]
  },
  {
   "cell_type": "code",
   "execution_count": 5,
   "metadata": {
    "ExecuteTime": {
     "end_time": "2023-06-09T04:09:52.314071Z",
     "start_time": "2023-06-09T04:09:51.957510Z"
    }
   },
   "outputs": [],
   "source": [
    "# custom module\n",
    "import model, dataloader, train_model, test_model\n",
    "import importlib\n",
    "importlib.reload(model)\n",
    "importlib.reload(dataloader)\n",
    "importlib.reload(train_model)\n",
    "importlib.reload(test_model)\n",
    "from model import *\n",
    "from dataloader import *\n",
    "from train_model import train\n",
    "from test_model import test"
   ]
  },
  {
   "cell_type": "markdown",
   "metadata": {},
   "source": [
    "# Parameters"
   ]
  },
  {
   "cell_type": "code",
   "execution_count": 3,
   "metadata": {
    "ExecuteTime": {
     "end_time": "2023-06-09T03:39:37.388740Z",
     "start_time": "2023-06-09T03:39:37.362809Z"
    }
   },
   "outputs": [],
   "source": [
    "config = {\n",
    "    \"root\" : \"./data/pickles/\",\n",
    "    \"train_feature\" : \"AtrialFibrilation_feature.pickle\",\n",
    "    \"train_target\" : \"AtrialFibrilation_target.pickle\",\n",
    "    \"test_feature\" : \"AtrialFibrilation_feature_test.pickle\",\n",
    "    \"test_target\" : \"AtrialFibrilation_target_test.pickle\",\n",
    "    \"labelencodedict\" : { 'n' : 0,\n",
    "                    's' : 1,\n",
    "                    't' :2,\n",
    "                   },\n",
    "    \"epochs\" : 3000,\n",
    "    \"learning_rate\" : 1e-4,\n",
    "    # model \n",
    "    \"first_out_channels\" : 32,\n",
    "    \"first_kernel_size\" : 5,\n",
    "    \"second_in_channels\" : 32,\n",
    "    \"second_out_channels\" : 16,\n",
    "    \"second_kernel_size\" : 3,\n",
    "    \"dim_model\" : 64,\n",
    "    \"dim_inner\" : 128,\n",
    "    \"num_heads\" : 8,\n",
    "    \"dropout_rate\" : 0.15,\n",
    "    \"squeeze_factor\" : 2,\n",
    "    \"sec_kernel_size\" : 3,\n",
    "    \"sec_stride\" : 1,\n",
    "    \"N\" : 3,\n",
    "    \"gamma\" : 2,\n",
    "    \"u\" : 2,        \n",
    "    \"weight_decay\" : 0.1,\n",
    "       \"device\" : torch.device('cuda' if torch.cuda.is_available() else 'cpu')\n",
    "}"
   ]
  },
  {
   "cell_type": "markdown",
   "metadata": {},
   "source": [
    "# Main"
   ]
  },
  {
   "cell_type": "code",
   "execution_count": 4,
   "metadata": {
    "ExecuteTime": {
     "end_time": "2023-06-09T03:40:15.118358Z",
     "start_time": "2023-06-09T03:39:37.394725Z"
    }
   },
   "outputs": [
    {
     "name": "stderr",
     "output_type": "stream",
     "text": [
      "C:\\Users\\yuins\\anaconda3\\lib\\site-packages\\pandas\\core\\computation\\expressions.py:20: UserWarning: Pandas requires version '2.7.3' or newer of 'numexpr' (version '2.7.1' currently installed).\n",
      "  from pandas.core.computation.check import NUMEXPR_INSTALLED\n",
      "C:\\Users\\yuins\\Hanyang_23_1st\\AI\\model.py:39: UserWarning: Implicit dimension choice for softmax has been deprecated. Change the call to include dim=X as an argument.\n",
      "  attention_prob = torch.nn.functional.softmax(scaled_att_score)\n",
      "C:\\Users\\yuins\\Hanyang_23_1st\\AI\\model.py:254: UserWarning: Implicit dimension choice for softmax has been deprecated. Change the call to include dim=X as an argument.\n",
      "  attention_prob = torch.nn.functional.softmax(scaled_att_score)\n"
     ]
    },
    {
     "name": "stdout",
     "output_type": "stream",
     "text": [
      "Epoch: 0, Loss: 0.6918, Train acc: 91.1111%\n",
      "Epoch: 1, Loss: 0.6733, Train acc: 86.6667%\n",
      "Epoch: 2, Loss: 0.7120, Train acc: 95.5556%\n",
      "Epoch: 3, Loss: 0.5623, Train acc: 86.6667%\n",
      "Epoch: 4, Loss: 0.6719, Train acc: 95.5556%\n",
      "Epoch: 5, Loss: 0.7093, Train acc: 82.2222%\n",
      "Epoch: 6, Loss: 0.6832, Train acc: 91.1111%\n",
      "Epoch: 7, Loss: 0.6309, Train acc: 95.5556%\n",
      "Epoch: 8, Loss: 0.4707, Train acc: 91.1111%\n",
      "Epoch: 9, Loss: 0.6828, Train acc: 91.1111%\n",
      "Epoch: 10, Loss: 0.5566, Train acc: 91.1111%\n",
      "Epoch: 11, Loss: 0.5926, Train acc: 95.5556%\n",
      "Epoch: 12, Loss: 0.4866, Train acc: 95.5556%\n",
      "Epoch: 13, Loss: 0.5845, Train acc: 100.0000%\n",
      "Epoch: 14, Loss: 0.4175, Train acc: 100.0000%\n",
      "Epoch: 15, Loss: 0.4061, Train acc: 100.0000%\n",
      "Epoch: 16, Loss: 0.4052, Train acc: 100.0000%\n",
      "Epoch: 17, Loss: 0.3485, Train acc: 100.0000%\n",
      "Epoch: 18, Loss: 0.3155, Train acc: 100.0000%\n",
      "Epoch: 19, Loss: 0.2555, Train acc: 100.0000%\n",
      "Epoch: 20, Loss: 0.3211, Train acc: 100.0000%\n",
      "Epoch: 21, Loss: 0.3144, Train acc: 100.0000%\n",
      "Epoch: 22, Loss: 0.1973, Train acc: 100.0000%\n",
      "Epoch: 23, Loss: 0.2023, Train acc: 95.5556%\n",
      "Epoch: 24, Loss: 0.2623, Train acc: 100.0000%\n",
      "Epoch: 25, Loss: 0.2121, Train acc: 100.0000%\n",
      "Epoch: 26, Loss: 0.1503, Train acc: 100.0000%\n",
      "Epoch: 27, Loss: 0.2089, Train acc: 100.0000%\n",
      "Epoch: 28, Loss: 0.1390, Train acc: 95.5556%\n",
      "Epoch: 29, Loss: 0.1521, Train acc: 100.0000%\n",
      "Epoch: 30, Loss: 0.1198, Train acc: 100.0000%\n",
      "Epoch: 31, Loss: 0.1359, Train acc: 100.0000%\n",
      "Epoch: 32, Loss: 0.0916, Train acc: 100.0000%\n",
      "Epoch: 33, Loss: 0.1230, Train acc: 100.0000%\n",
      "Epoch: 34, Loss: 0.1222, Train acc: 100.0000%\n",
      "Epoch: 35, Loss: 0.0675, Train acc: 100.0000%\n",
      "Epoch: 36, Loss: 0.0734, Train acc: 100.0000%\n",
      "Epoch: 37, Loss: 0.0938, Train acc: 100.0000%\n",
      "Epoch: 38, Loss: 0.0596, Train acc: 100.0000%\n",
      "Epoch: 39, Loss: 0.1138, Train acc: 100.0000%\n",
      "Epoch: 40, Loss: 0.1011, Train acc: 100.0000%\n",
      "Epoch: 41, Loss: 0.1045, Train acc: 100.0000%\n",
      "Epoch: 42, Loss: 0.0341, Train acc: 100.0000%\n",
      "Epoch: 43, Loss: 0.0509, Train acc: 100.0000%\n",
      "Epoch: 44, Loss: 0.0417, Train acc: 100.0000%\n",
      "Epoch: 45, Loss: 0.0449, Train acc: 100.0000%\n",
      "Epoch: 46, Loss: 0.0258, Train acc: 100.0000%\n",
      "Epoch: 47, Loss: 0.0187, Train acc: 100.0000%\n",
      "Epoch: 48, Loss: 0.0254, Train acc: 100.0000%\n",
      "Epoch: 49, Loss: 0.0329, Train acc: 100.0000%\n",
      "Epoch: 50, Loss: 0.0141, Train acc: 100.0000%\n",
      "Epoch: 51, Loss: 0.0230, Train acc: 100.0000%\n",
      "Epoch: 52, Loss: 0.0131, Train acc: 100.0000%\n",
      "Epoch: 53, Loss: 0.0158, Train acc: 100.0000%\n",
      "Epoch: 54, Loss: 0.0212, Train acc: 100.0000%\n",
      "Epoch: 55, Loss: 0.0173, Train acc: 100.0000%\n",
      "Epoch: 56, Loss: 0.0121, Train acc: 100.0000%\n",
      "Epoch: 57, Loss: 0.0206, Train acc: 100.0000%\n",
      "Epoch: 58, Loss: 0.0076, Train acc: 100.0000%\n",
      "Epoch: 59, Loss: 0.0119, Train acc: 100.0000%\n",
      "Epoch: 60, Loss: 0.0276, Train acc: 100.0000%\n",
      "Epoch: 61, Loss: 0.0144, Train acc: 100.0000%\n",
      "Epoch: 62, Loss: 0.0114, Train acc: 100.0000%\n",
      "Epoch: 63, Loss: 0.0121, Train acc: 100.0000%\n",
      "Epoch: 64, Loss: 0.0123, Train acc: 100.0000%\n",
      "Epoch: 65, Loss: 0.0197, Train acc: 100.0000%\n",
      "Epoch: 66, Loss: 0.0341, Train acc: 100.0000%\n",
      "Epoch: 67, Loss: 0.0134, Train acc: 100.0000%\n",
      "Epoch: 68, Loss: 0.0091, Train acc: 100.0000%\n",
      "Epoch: 69, Loss: 0.0095, Train acc: 100.0000%\n",
      "Epoch: 70, Loss: 0.0182, Train acc: 100.0000%\n",
      "Epoch: 71, Loss: 0.0118, Train acc: 100.0000%\n",
      "Epoch: 72, Loss: 0.0149, Train acc: 100.0000%\n",
      "Epoch: 73, Loss: 0.0170, Train acc: 100.0000%\n",
      "Epoch: 74, Loss: 0.0157, Train acc: 100.0000%\n",
      "Epoch: 75, Loss: 0.0113, Train acc: 100.0000%\n",
      "Epoch: 76, Loss: 0.0099, Train acc: 100.0000%\n",
      "Epoch: 77, Loss: 0.0226, Train acc: 100.0000%\n",
      "Epoch: 78, Loss: 0.0116, Train acc: 100.0000%\n",
      "Epoch: 79, Loss: 0.0103, Train acc: 100.0000%\n",
      "Epoch: 80, Loss: 0.0249, Train acc: 100.0000%\n",
      "Epoch: 81, Loss: 0.0096, Train acc: 100.0000%\n",
      "Epoch: 82, Loss: 0.0150, Train acc: 100.0000%\n",
      "Epoch: 83, Loss: 0.0148, Train acc: 100.0000%\n",
      "Epoch: 84, Loss: 0.0176, Train acc: 100.0000%\n",
      "Epoch: 85, Loss: 0.0137, Train acc: 100.0000%\n",
      "Epoch: 86, Loss: 0.0133, Train acc: 100.0000%\n",
      "Epoch: 87, Loss: 0.0107, Train acc: 100.0000%\n",
      "Epoch: 88, Loss: 0.0151, Train acc: 100.0000%\n",
      "Epoch: 89, Loss: 0.0069, Train acc: 100.0000%\n",
      "Epoch: 90, Loss: 0.0129, Train acc: 100.0000%\n",
      "Epoch: 91, Loss: 0.0210, Train acc: 100.0000%\n",
      "Epoch: 92, Loss: 0.0153, Train acc: 100.0000%\n",
      "Epoch: 93, Loss: 0.0135, Train acc: 100.0000%\n",
      "Epoch: 94, Loss: 0.0059, Train acc: 100.0000%\n",
      "Epoch: 95, Loss: 0.0057, Train acc: 100.0000%\n",
      "Epoch: 96, Loss: 0.0112, Train acc: 100.0000%\n",
      "Epoch: 97, Loss: 0.0312, Train acc: 100.0000%\n"
     ]
    },
    {
     "ename": "KeyboardInterrupt",
     "evalue": "",
     "output_type": "error",
     "traceback": [
      "\u001b[1;31m---------------------------------------------------------------------------\u001b[0m",
      "\u001b[1;31mKeyboardInterrupt\u001b[0m                         Traceback (most recent call last)",
      "\u001b[1;32m<ipython-input-4-0a86f47019c2>\u001b[0m in \u001b[0;36m<module>\u001b[1;34m\u001b[0m\n\u001b[0;32m     36\u001b[0m     \u001b[0mcriterion\u001b[0m \u001b[1;33m=\u001b[0m \u001b[0mtorch\u001b[0m\u001b[1;33m.\u001b[0m\u001b[0mnn\u001b[0m\u001b[1;33m.\u001b[0m\u001b[0mCrossEntropyLoss\u001b[0m\u001b[1;33m(\u001b[0m\u001b[1;33m)\u001b[0m\u001b[1;33m\u001b[0m\u001b[1;33m\u001b[0m\u001b[0m\n\u001b[0;32m     37\u001b[0m \u001b[1;33m\u001b[0m\u001b[0m\n\u001b[1;32m---> 38\u001b[1;33m     \u001b[0mtrain_loss\u001b[0m\u001b[1;33m,\u001b[0m \u001b[0mtrain_acc\u001b[0m \u001b[1;33m=\u001b[0m \u001b[0mtrain\u001b[0m\u001b[1;33m(\u001b[0m\u001b[0mX_train\u001b[0m\u001b[1;33m,\u001b[0m \u001b[0mtrain_y\u001b[0m\u001b[1;33m,\u001b[0m \u001b[0moptimizer\u001b[0m\u001b[1;33m,\u001b[0m \u001b[0mmodel\u001b[0m \u001b[1;33m=\u001b[0m \u001b[0mmd\u001b[0m\u001b[1;33m,\u001b[0m \u001b[0mepochs\u001b[0m \u001b[1;33m=\u001b[0m \u001b[0mepochs\u001b[0m\u001b[1;33m)\u001b[0m\u001b[1;33m\u001b[0m\u001b[1;33m\u001b[0m\u001b[0m\n\u001b[0m\u001b[0;32m     39\u001b[0m     \u001b[0mmd\u001b[0m\u001b[1;33m.\u001b[0m\u001b[0mys\u001b[0m \u001b[1;33m=\u001b[0m \u001b[0my_test\u001b[0m\u001b[1;33m\u001b[0m\u001b[1;33m\u001b[0m\u001b[0m\n\u001b[0;32m     40\u001b[0m     \u001b[0mtest_loss\u001b[0m\u001b[1;33m,\u001b[0m \u001b[0mtest_acc\u001b[0m \u001b[1;33m=\u001b[0m \u001b[0mtest\u001b[0m\u001b[1;33m(\u001b[0m\u001b[0mX_test\u001b[0m\u001b[1;33m,\u001b[0m \u001b[0mtest_y\u001b[0m\u001b[1;33m,\u001b[0m \u001b[0mmodel\u001b[0m \u001b[1;33m=\u001b[0m \u001b[0mmd\u001b[0m\u001b[1;33m)\u001b[0m\u001b[1;33m\u001b[0m\u001b[1;33m\u001b[0m\u001b[0m\n",
      "\u001b[1;32m~\\Hanyang_23_1st\\AI\\train.py\u001b[0m in \u001b[0;36mtrain\u001b[1;34m(X_train, train_y, optimizer, model, epochs, verbose)\u001b[0m\n\u001b[0;32m     16\u001b[0m         \u001b[0mtrain_acc\u001b[0m\u001b[1;33m.\u001b[0m\u001b[0mappend\u001b[0m\u001b[1;33m(\u001b[0m\u001b[0macc\u001b[0m\u001b[1;33m)\u001b[0m\u001b[1;33m\u001b[0m\u001b[1;33m\u001b[0m\u001b[0m\n\u001b[0;32m     17\u001b[0m \u001b[1;33m\u001b[0m\u001b[0m\n\u001b[1;32m---> 18\u001b[1;33m         \u001b[0mloss\u001b[0m\u001b[1;33m.\u001b[0m\u001b[0mbackward\u001b[0m\u001b[1;33m(\u001b[0m\u001b[1;33m)\u001b[0m\u001b[1;33m\u001b[0m\u001b[1;33m\u001b[0m\u001b[0m\n\u001b[0m\u001b[0;32m     19\u001b[0m         \u001b[0moptimizer\u001b[0m\u001b[1;33m.\u001b[0m\u001b[0mstep\u001b[0m\u001b[1;33m(\u001b[0m\u001b[1;33m)\u001b[0m\u001b[1;33m\u001b[0m\u001b[1;33m\u001b[0m\u001b[0m\n\u001b[0;32m     20\u001b[0m \u001b[1;33m\u001b[0m\u001b[0m\n",
      "\u001b[1;32m~\\anaconda3\\lib\\site-packages\\torch\\_tensor.py\u001b[0m in \u001b[0;36mbackward\u001b[1;34m(self, gradient, retain_graph, create_graph, inputs)\u001b[0m\n\u001b[0;32m    361\u001b[0m                 \u001b[0mcreate_graph\u001b[0m\u001b[1;33m=\u001b[0m\u001b[0mcreate_graph\u001b[0m\u001b[1;33m,\u001b[0m\u001b[1;33m\u001b[0m\u001b[1;33m\u001b[0m\u001b[0m\n\u001b[0;32m    362\u001b[0m                 inputs=inputs)\n\u001b[1;32m--> 363\u001b[1;33m         \u001b[0mtorch\u001b[0m\u001b[1;33m.\u001b[0m\u001b[0mautograd\u001b[0m\u001b[1;33m.\u001b[0m\u001b[0mbackward\u001b[0m\u001b[1;33m(\u001b[0m\u001b[0mself\u001b[0m\u001b[1;33m,\u001b[0m \u001b[0mgradient\u001b[0m\u001b[1;33m,\u001b[0m \u001b[0mretain_graph\u001b[0m\u001b[1;33m,\u001b[0m \u001b[0mcreate_graph\u001b[0m\u001b[1;33m,\u001b[0m \u001b[0minputs\u001b[0m\u001b[1;33m=\u001b[0m\u001b[0minputs\u001b[0m\u001b[1;33m)\u001b[0m\u001b[1;33m\u001b[0m\u001b[1;33m\u001b[0m\u001b[0m\n\u001b[0m\u001b[0;32m    364\u001b[0m \u001b[1;33m\u001b[0m\u001b[0m\n\u001b[0;32m    365\u001b[0m     \u001b[1;32mdef\u001b[0m \u001b[0mregister_hook\u001b[0m\u001b[1;33m(\u001b[0m\u001b[0mself\u001b[0m\u001b[1;33m,\u001b[0m \u001b[0mhook\u001b[0m\u001b[1;33m)\u001b[0m\u001b[1;33m:\u001b[0m\u001b[1;33m\u001b[0m\u001b[1;33m\u001b[0m\u001b[0m\n",
      "\u001b[1;32m~\\anaconda3\\lib\\site-packages\\torch\\autograd\\__init__.py\u001b[0m in \u001b[0;36mbackward\u001b[1;34m(tensors, grad_tensors, retain_graph, create_graph, grad_variables, inputs)\u001b[0m\n\u001b[0;32m    171\u001b[0m     \u001b[1;31m# some Python versions print out the first line of a multi-line function\u001b[0m\u001b[1;33m\u001b[0m\u001b[1;33m\u001b[0m\u001b[1;33m\u001b[0m\u001b[0m\n\u001b[0;32m    172\u001b[0m     \u001b[1;31m# calls in the traceback and some print out the last line\u001b[0m\u001b[1;33m\u001b[0m\u001b[1;33m\u001b[0m\u001b[1;33m\u001b[0m\u001b[0m\n\u001b[1;32m--> 173\u001b[1;33m     Variable._execution_engine.run_backward(  # Calls into the C++ engine to run the backward pass\n\u001b[0m\u001b[0;32m    174\u001b[0m         \u001b[0mtensors\u001b[0m\u001b[1;33m,\u001b[0m \u001b[0mgrad_tensors_\u001b[0m\u001b[1;33m,\u001b[0m \u001b[0mretain_graph\u001b[0m\u001b[1;33m,\u001b[0m \u001b[0mcreate_graph\u001b[0m\u001b[1;33m,\u001b[0m \u001b[0minputs\u001b[0m\u001b[1;33m,\u001b[0m\u001b[1;33m\u001b[0m\u001b[1;33m\u001b[0m\u001b[0m\n\u001b[0;32m    175\u001b[0m         allow_unreachable=True, accumulate_grad=True)  # Calls into the C++ engine to run the backward pass\n",
      "\u001b[1;31mKeyboardInterrupt\u001b[0m: "
     ]
    }
   ],
   "source": [
    "if __name__ == \"__main__\":\n",
    "    epochs = config[\"epochs\"]\n",
    "    learning_rate = config[\"learning_rate\"]\n",
    "    weight_decay = config[\"weight_decay\"]\n",
    "\n",
    "    X_train, y_train, train_y, X_test, y_test, test_y = load_dataset(config)\n",
    "    \n",
    "    config[\"num_samples\"] = X_train.shape[0]\n",
    "    config[\"first_in_channels\"] = X_train.shape[1]\n",
    "    config[\"L\"] = X_train.shape[2]\n",
    "    config[\"length\"] = X_train.shape[2]\n",
    "    \n",
    "    md = Net(\n",
    "                dim_model = config[\"dim_model\"],\n",
    "                gamma = config[\"gamma\"],\n",
    "                u = config[\"u\"],\n",
    "                ys = y_train,\n",
    "                first_in_channels = config[\"first_in_channels\"],\n",
    "                first_out_channels = config[\"first_out_channels\"],\n",
    "                first_kernel_size = config[\"first_kernel_size\"],\n",
    "                second_in_channels = config[\"second_in_channels\"],\n",
    "                second_out_channels = config[\"second_out_channels\"],\n",
    "                second_kernel_size = config[\"second_kernel_size\"],\n",
    "                N = config[\"N\"],  #slice\n",
    "                L = config[\"L\"], # slice\n",
    "                dim_inner = config[\"dim_inner\"],\n",
    "                num_samples = config[\"num_samples\"], \n",
    "                length = config[\"length\"], \n",
    "                num_heads = config[\"num_heads\"],\n",
    "                dropout_rate = config[\"dropout_rate\"],\n",
    "                squeeze_factor = config[\"squeeze_factor\"],\n",
    "                sec_kernel_size = config[\"sec_kernel_size\"],\n",
    "                sec_stride = config[\"sec_stride\"],\n",
    "                num_classes = len(config[\"labelencodedict\"].keys())).to(config['device'])\n",
    "    optimizer = torch.optim.Adam(md.parameters(), weight_decay=weight_decay, lr=learning_rate)\n",
    "    criterion = torch.nn.CrossEntropyLoss()\n",
    "\n",
    "    train_loss, train_acc = train(X_train, train_y, optimizer, model = md, epochs = epochs)\n",
    "    md.ys = y_test\n",
    "    test_loss, test_acc = test(X_test, test_y, model = md)"
   ]
  },
  {
   "cell_type": "code",
   "execution_count": null,
   "metadata": {
    "ExecuteTime": {
     "end_time": "2023-06-09T03:40:15.164234Z",
     "start_time": "2023-06-09T03:39:33.418Z"
    }
   },
   "outputs": [],
   "source": [
    "md.ys = y_test\n",
    "test_loss, test_acc = test(X_test, test_y, model = md)"
   ]
  },
  {
   "cell_type": "code",
   "execution_count": null,
   "metadata": {},
   "outputs": [],
   "source": []
  }
 ],
 "metadata": {
  "hide_input": false,
  "kernelspec": {
   "display_name": "Python 3",
   "language": "python",
   "name": "python3"
  },
  "language_info": {
   "codemirror_mode": {
    "name": "ipython",
    "version": 3
   },
   "file_extension": ".py",
   "mimetype": "text/x-python",
   "name": "python",
   "nbconvert_exporter": "python",
   "pygments_lexer": "ipython3",
   "version": "3.8.5"
  },
  "toc": {
   "base_numbering": 1,
   "nav_menu": {},
   "number_sections": true,
   "sideBar": true,
   "skip_h1_title": false,
   "title_cell": "Table of Contents",
   "title_sidebar": "Contents",
   "toc_cell": false,
   "toc_position": {},
   "toc_section_display": true,
   "toc_window_display": false
  },
  "varInspector": {
   "cols": {
    "lenName": 16,
    "lenType": 16,
    "lenVar": 40
   },
   "kernels_config": {
    "python": {
     "delete_cmd_postfix": "",
     "delete_cmd_prefix": "del ",
     "library": "var_list.py",
     "varRefreshCmd": "print(var_dic_list())"
    },
    "r": {
     "delete_cmd_postfix": ") ",
     "delete_cmd_prefix": "rm(",
     "library": "var_list.r",
     "varRefreshCmd": "cat(var_dic_list()) "
    }
   },
   "types_to_exclude": [
    "module",
    "function",
    "builtin_function_or_method",
    "instance",
    "_Feature"
   ],
   "window_display": false
  }
 },
 "nbformat": 4,
 "nbformat_minor": 4
}
